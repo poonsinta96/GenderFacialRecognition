{
  "nbformat": 4,
  "nbformat_minor": 0,
  "metadata": {
    "accelerator": "GPU",
    "colab": {
      "name": "CZ4042_Project.ipynb",
      "provenance": [],
      "collapsed_sections": [],
      "toc_visible": true
    },
    "kernelspec": {
      "display_name": "Python 3",
      "name": "python3"
    }
  },
  "cells": [
    {
      "cell_type": "markdown",
      "metadata": {
        "id": "OXgrQImgm3Xg"
      },
      "source": [
        "# Setup"
      ]
    },
    {
      "cell_type": "code",
      "metadata": {
        "colab": {
          "base_uri": "https://localhost:8080/"
        },
        "id": "tbxn6R2_weR9",
        "outputId": "380cd765-c7e4-465b-a721-339620b4a723"
      },
      "source": [
        "!nvidia-smi"
      ],
      "execution_count": null,
      "outputs": [
        {
          "output_type": "stream",
          "text": [
            "Sun Nov 22 03:25:49 2020       \n",
            "+-----------------------------------------------------------------------------+\n",
            "| NVIDIA-SMI 455.38       Driver Version: 418.67       CUDA Version: 10.1     |\n",
            "|-------------------------------+----------------------+----------------------+\n",
            "| GPU  Name        Persistence-M| Bus-Id        Disp.A | Volatile Uncorr. ECC |\n",
            "| Fan  Temp  Perf  Pwr:Usage/Cap|         Memory-Usage | GPU-Util  Compute M. |\n",
            "|                               |                      |               MIG M. |\n",
            "|===============================+======================+======================|\n",
            "|   0  Tesla T4            Off  | 00000000:00:04.0 Off |                    0 |\n",
            "| N/A   61C    P8    11W /  70W |      0MiB / 15079MiB |      0%      Default |\n",
            "|                               |                      |                 ERR! |\n",
            "+-------------------------------+----------------------+----------------------+\n",
            "                                                                               \n",
            "+-----------------------------------------------------------------------------+\n",
            "| Processes:                                                                  |\n",
            "|  GPU   GI   CI        PID   Type   Process name                  GPU Memory |\n",
            "|        ID   ID                                                   Usage      |\n",
            "|=============================================================================|\n",
            "|  No running processes found                                                 |\n",
            "+-----------------------------------------------------------------------------+\n"
          ],
          "name": "stdout"
        }
      ]
    },
    {
      "cell_type": "code",
      "metadata": {
        "colab": {
          "base_uri": "https://localhost:8080/"
        },
        "id": "e6KJMYNvwfQM",
        "outputId": "803f98d8-cf56-4414-c0ec-64d633a433c0"
      },
      "source": [
        "import tensorflow as tf\n",
        "\n",
        "# This is required when using GPU\n",
        "gpus = tf.config.experimental.list_physical_devices('GPU')\n",
        "if gpus:\n",
        "    try:\n",
        "        # Currently, memory growth needs to be the same across GPUs\n",
        "        for gpu in gpus:\n",
        "            tf.config.experimental.set_memory_growth(gpu, True)\n",
        "        logical_gpus = tf.config.experimental.list_logical_devices('GPU')\n",
        "        print(len(gpus), \"Physical GPUs,\", len(logical_gpus), \"Logical GPUs\")\n",
        "    except RuntimeError as e:\n",
        "        # Memory growth must be set before GPUs have been initialized\n",
        "        print(e)"
      ],
      "execution_count": null,
      "outputs": [
        {
          "output_type": "stream",
          "text": [
            "1 Physical GPUs, 1 Logical GPUs\n"
          ],
          "name": "stdout"
        }
      ]
    },
    {
      "cell_type": "code",
      "metadata": {
        "id": "bBWIrNPy_ZdW"
      },
      "source": [
        "# Import important libraries, set constants\n",
        "\n",
        "import pandas as pd\n",
        "import numpy as np\n",
        "import tensorflow as tf\n",
        "import matplotlib.pyplot as plt\n",
        "\n",
        "IMG_HEIGHT = 299\n",
        "IMG_WIDTH = 299\n",
        "BATCH_SIZE = 32\n",
        "SEED = 42\n",
        "\n",
        "np.random.seed(SEED)\n",
        "tf.random.set_seed(SEED)\n",
        "\n",
        "histories = {}"
      ],
      "execution_count": null,
      "outputs": []
    },
    {
      "cell_type": "code",
      "metadata": {
        "id": "HzwnOmDPFs5F"
      },
      "source": [
        "# Time callback for keeping track of and comparing model train times\n",
        "\n",
        "import time\n",
        "\n",
        "class TimeHistory(tf.keras.callbacks.Callback):\n",
        "    def on_train_begin(self, logs=None):\n",
        "        self.times = []\n",
        "\n",
        "    def on_epoch_begin(self, epoch, logs=None):\n",
        "        self.epoch_time_start = time.time()\n",
        "    \n",
        "    def on_epoch_end(self, epoch, logs=None):\n",
        "        self.times.append(time.time() - self.epoch_time_start)"
      ],
      "execution_count": null,
      "outputs": []
    },
    {
      "cell_type": "code",
      "metadata": {
        "id": "vUnwa7jnh984"
      },
      "source": [
        "import os\n",
        "\n",
        "if not os.path.exists('/content/models'):\n",
        "    os.mkdir('/content/models')\n",
        "\n",
        "# Callback to stop training if validation accuracy does not improve after 5 epochs\n",
        "early_stop = tf.keras.callbacks.EarlyStopping(monitor='val_accuracy',\n",
        "                                              patience=5)\n",
        "# Callback to save model after each epoch\n",
        "checkpoint = tf.keras.callbacks.ModelCheckpoint('/content/models/{epoch:02d}',\n",
        "                                                monitor='val_acc',\n",
        "                                                mode=\"max\")\n",
        "# Log model statistics\n",
        "log = tf.keras.callbacks.CSVLogger('/content/models/log.csv')\n",
        "time_callback = TimeHistory()"
      ],
      "execution_count": null,
      "outputs": []
    },
    {
      "cell_type": "code",
      "metadata": {
        "id": "9TR6DE38mdwY",
        "colab": {
          "base_uri": "https://localhost:8080/"
        },
        "outputId": "9b76f9d1-02ee-4ebd-a5f4-33e4b04e54a5"
      },
      "source": [
        "#get all required files\n",
        "\n",
        "from pydrive.auth import GoogleAuth\n",
        "from pydrive.drive import GoogleDrive\n",
        "from google.colab import auth\n",
        "from oauth2client.client import GoogleCredentials\n",
        "\n",
        "# Authenticate and create the PyDrive client.\n",
        "auth.authenticate_user()\n",
        "\n",
        "def folder_list(folder_id):\n",
        "  from googleapiclient.discovery import build\n",
        "  gdrive = build('drive', 'v3').files()\n",
        "  res = gdrive.list(q=\"'%s' in parents\" % folder_id).execute()\n",
        "  return [f['id'] for f in res['files']]\n",
        "\n",
        "def folder_download(folder_id):\n",
        "  for fid in folder_list(folder_id):\n",
        "    !gdown -q --id $fid\n",
        "\n",
        "link='https://drive.google.com/drive/folders/1mj-LAHcnvUiWcsM5y0HZKCVCW6cpgHU0'\n",
        "\n",
        "folder_id=\"1mj-LAHcnvUiWcsM5y0HZKCVCW6cpgHU0\"\n",
        "\n",
        "folder_download(folder_id)"
      ],
      "execution_count": null,
      "outputs": [
        {
          "output_type": "stream",
          "text": [
            "Permission denied: https://drive.google.com/uc?id=1WeRyfUhc1oXUBzqKH-6WOb1Nm0HTlzz1\n",
            "Maybe you need to change permission over 'Anyone with the link'?\n"
          ],
          "name": "stdout"
        }
      ]
    },
    {
      "cell_type": "markdown",
      "metadata": {
        "id": "wQyvtKDSmMcD"
      },
      "source": [
        "\n",
        "\n",
        "---\n",
        "\n",
        "### Load CelebA Dataset"
      ]
    },
    {
      "cell_type": "code",
      "metadata": {
        "id": "QN0KL3FLmF-l"
      },
      "source": [
        "!unzip \"/content/img_align_celeba.zip\""
      ],
      "execution_count": null,
      "outputs": []
    },
    {
      "cell_type": "code",
      "metadata": {
        "id": "GSDFxiSHtc5X"
      },
      "source": [
        "# Set classes, train test split for CelebA dataset\n",
        "\n",
        "from sklearn.model_selection import train_test_split\n",
        "\n",
        "df = pd.read_csv('list_attr_celeba.txt', header=0, delim_whitespace=True)\n",
        "\n",
        "df.loc[df['Male'] == 1, 'Male'] = 'm'\n",
        "df.loc[df['Male'] == -1, 'Male'] = 'f'\n",
        "\n",
        "train_df, test_df = train_test_split(df, test_size=0.2, shuffle=True)"
      ],
      "execution_count": null,
      "outputs": []
    },
    {
      "cell_type": "code",
      "metadata": {
        "colab": {
          "base_uri": "https://localhost:8080/"
        },
        "id": "3g0sL1bWtdUJ",
        "outputId": "35ddfd1b-4bbf-470f-b58e-e6fbb514d109"
      },
      "source": [
        "# Create generators for train and test sets, perform data augmentation for train set\n",
        "\n",
        "image_generator = tf.keras.preprocessing.image.ImageDataGenerator(rescale=1./255,\n",
        "                                                                  rotation_range=15,\n",
        "                                                                  width_shift_range=0.1,\n",
        "                                                                  height_shift_range=0.1,\n",
        "                                                                  brightness_range=[0.9,1.1],\n",
        "                                                                  zoom_range=[0.9,1.1],\n",
        "                                                                  horizontal_flip=True,\n",
        "                                                                  vertical_flip=False)\n",
        "train_data_gen_ca = image_generator.flow_from_dataframe(train_df,\n",
        "                                                     directory='/content/img_align_celeba/',\n",
        "                                                     x_col='image_id',\n",
        "                                                     y_col='Male',\n",
        "                                                     target_size=(IMG_HEIGHT,IMG_WIDTH),\n",
        "                                                     class_mode='categorical',\n",
        "                                                     batch_size=BATCH_SIZE,\n",
        "                                                     shuffle=True,\n",
        "                                                     seed=SEED)\n",
        "\n",
        "image_generator = tf.keras.preprocessing.image.ImageDataGenerator(rescale=1./255)\n",
        "test_data_gen_ca = image_generator.flow_from_dataframe(test_df,\n",
        "                                                    directory='/content/img_align_celeba/',\n",
        "                                                    x_col='image_id',\n",
        "                                                    y_col='Male',\n",
        "                                                    target_size=(IMG_HEIGHT,IMG_WIDTH),\n",
        "                                                    class_mode='categorical',\n",
        "                                                    batch_size=BATCH_SIZE,\n",
        "                                                    shuffle=False,\n",
        "                                                    seed=SEED)"
      ],
      "execution_count": null,
      "outputs": [
        {
          "output_type": "stream",
          "text": [
            "Found 162079 validated image filenames belonging to 2 classes.\n",
            "Found 40520 validated image filenames belonging to 2 classes.\n"
          ],
          "name": "stdout"
        }
      ]
    },
    {
      "cell_type": "markdown",
      "metadata": {
        "id": "dIDimmTimQVq"
      },
      "source": [
        "\n",
        "\n",
        "---\n",
        "\n",
        "### Load Adience Dataset"
      ]
    },
    {
      "cell_type": "code",
      "metadata": {
        "id": "hMIGUX2-OHTf"
      },
      "source": [
        "!unzip \"/content/aligned.zip\""
      ],
      "execution_count": null,
      "outputs": []
    },
    {
      "cell_type": "code",
      "metadata": {
        "id": "0_qjIqT7HrPo"
      },
      "source": [
        "# Concat the different attribute files for Adience dataset\n",
        "\n",
        "df = pd.DataFrame()\n",
        "for i in range(0,5):\n",
        "    df = pd.concat([df, pd.read_csv(f'fold_{i}_data.txt', sep='\\t')])"
      ],
      "execution_count": null,
      "outputs": []
    },
    {
      "cell_type": "code",
      "metadata": {
        "id": "h75xdDQaRj3A"
      },
      "source": [
        "from sklearn.model_selection import train_test_split\n",
        "\n",
        "# Clean dataset by removing NAs\n",
        "df = df[df['gender'].notna()]\n",
        "df = df[df['age'] != 'None']\n",
        "df = df[df['gender'] != 'u']\n",
        "\n",
        "# Cleanup age categories\n",
        "df.loc[df['age'] == '(27, 32)', 'age'] = '(25, 32)'\n",
        "df.loc[df['age'] == '(38, 42)', 'age'] = '(38, 43)'\n",
        "df.loc[df['age'] == '29', 'age'] = '(25, 32)'\n",
        "df.loc[df['age'] == '2', 'age'] = '(0, 2)'\n",
        "df.loc[df['age'] == '42', 'age'] = '(38, 43)'\n",
        "df['age'].value_counts()\n",
        "df = df[df.age.isin(['(0, 2)',\n",
        "                     '(4, 6)',\n",
        "                     '(8, 12)',\n",
        "                     '(15, 20)',\n",
        "                     '(25, 32)',\n",
        "                     '(38, 43)',\n",
        "                     '(48, 53)',\n",
        "                     '(60, 100)'])]\n",
        "\n",
        "# Generate image filepaths\n",
        "df['filepath'] = df.apply(lambda row: row['user_id'] +\n",
        "                          '/landmark_aligned_face.' + str(row['face_id']) + '.' +\n",
        "                          row['original_image'],\n",
        "         axis = 1\n",
        ")\n",
        "df = df.loc[:, ['filepath', 'age', 'gender']]\n",
        "\n",
        "# Train test split\n",
        "train_df, test_df = train_test_split(df, test_size=0.2, shuffle=True)"
      ],
      "execution_count": null,
      "outputs": []
    },
    {
      "cell_type": "code",
      "metadata": {
        "colab": {
          "base_uri": "https://localhost:8080/"
        },
        "id": "rC93Sutf9lbr",
        "outputId": "cfea5541-e735-47f7-ed4f-1853e6e657b8"
      },
      "source": [
        "# Create generators for train and test sets\n",
        "\n",
        "image_generator = tf.keras.preprocessing.image.ImageDataGenerator(rescale=1./255)\n",
        "train_data_gen = image_generator.flow_from_dataframe(train_df,\n",
        "                                                     directory='/content/aligned/',\n",
        "                                                     x_col='filepath',\n",
        "                                                     y_col='gender',\n",
        "                                                     target_size=(IMG_HEIGHT,IMG_WIDTH),\n",
        "                                                     class_mode='categorical',\n",
        "                                                     batch_size=BATCH_SIZE,\n",
        "                                                     shuffle=True,\n",
        "                                                     seed=SEED)\n",
        "\n",
        "test_data_gen = image_generator.flow_from_dataframe(test_df,\n",
        "                                                    directory='/content/aligned/',\n",
        "                                                    x_col='filepath',\n",
        "                                                    y_col='gender',\n",
        "                                                    target_size=(IMG_HEIGHT,IMG_WIDTH),\n",
        "                                                    class_mode='categorical',\n",
        "                                                    batch_size=BATCH_SIZE,\n",
        "                                                    shuffle=False,\n",
        "                                                    seed=SEED)"
      ],
      "execution_count": null,
      "outputs": [
        {
          "output_type": "stream",
          "text": [
            "Found 13092 validated image filenames belonging to 2 classes.\n",
            "Found 3274 validated image filenames belonging to 2 classes.\n"
          ],
          "name": "stdout"
        }
      ]
    },
    {
      "cell_type": "markdown",
      "metadata": {
        "id": "HRUTzOOZrSgm"
      },
      "source": [
        "\n",
        "\n",
        "---\n",
        "\n",
        "## Benchmark\n",
        "\n",
        "ImageNet weights, No data augmentation\n",
        "\n"
      ]
    },
    {
      "cell_type": "code",
      "metadata": {
        "colab": {
          "base_uri": "https://localhost:8080/"
        },
        "id": "lAjvdowqrcfM",
        "outputId": "56d0d9b2-c09b-4775-a195-cf1d2f6b410b"
      },
      "source": [
        "# Initialise InceptionV3 model, with pretrained ImageNet weights\n",
        "\n",
        "base_model = tf.keras.applications.InceptionV3(include_top=False,\n",
        "                                               weights='imagenet',\n",
        "                                               input_shape=(IMG_HEIGHT, IMG_WIDTH, 3),\n",
        "                                               pooling='avg')\n",
        "model = tf.keras.models.Sequential(base_model)\n",
        "model.add(tf.keras.layers.Dense(2))\n",
        "\n",
        "model.compile(optimizer='sgd',\n",
        "              loss=tf.keras.losses.CategoricalCrossentropy(from_logits=True),\n",
        "              metrics=['accuracy'])"
      ],
      "execution_count": null,
      "outputs": [
        {
          "output_type": "stream",
          "text": [
            "Downloading data from https://storage.googleapis.com/tensorflow/keras-applications/inception_v3/inception_v3_weights_tf_dim_ordering_tf_kernels_notop.h5\n",
            "87916544/87910968 [==============================] - 3s 0us/step\n"
          ],
          "name": "stdout"
        }
      ]
    },
    {
      "cell_type": "code",
      "metadata": {
        "colab": {
          "base_uri": "https://localhost:8080/"
        },
        "id": "M8DTnQLMsbTn",
        "outputId": "57950b7a-17b6-45cd-f850-130a2b834535"
      },
      "source": [
        "# Fit model to train data\n",
        "\n",
        "history = model.fit(train_data_gen,\n",
        "                    epochs=20,\n",
        "                    initial_epoch=0,\n",
        "                    validation_data=test_data_gen,\n",
        "                    callbacks=[early_stop, checkpoint, log, time_callback],\n",
        "                    verbose=1)\n",
        "histories['benchmark'] = (history, time_callback.times)"
      ],
      "execution_count": null,
      "outputs": [
        {
          "output_type": "stream",
          "text": [
            "Epoch 1/20\n",
            "410/410 [==============================] - ETA: 0s - loss: 0.3247 - accuracy: 0.8511WARNING:tensorflow:From /usr/local/lib/python3.6/dist-packages/tensorflow/python/training/tracking/tracking.py:111: Model.state_updates (from tensorflow.python.keras.engine.training) is deprecated and will be removed in a future version.\n",
            "Instructions for updating:\n",
            "This property should not be used in TensorFlow 2.0, as updates are applied automatically.\n",
            "WARNING:tensorflow:From /usr/local/lib/python3.6/dist-packages/tensorflow/python/training/tracking/tracking.py:111: Layer.updates (from tensorflow.python.keras.engine.base_layer) is deprecated and will be removed in a future version.\n",
            "Instructions for updating:\n",
            "This property should not be used in TensorFlow 2.0, as updates are applied automatically.\n",
            "INFO:tensorflow:Assets written to: /content/models/01/assets\n",
            "410/410 [==============================] - 267s 652ms/step - loss: 0.3247 - accuracy: 0.8511 - val_loss: 0.2001 - val_accuracy: 0.9206\n",
            "Epoch 2/20\n",
            "410/410 [==============================] - ETA: 0s - loss: 0.1222 - accuracy: 0.9538INFO:tensorflow:Assets written to: /content/models/02/assets\n",
            "410/410 [==============================] - 256s 624ms/step - loss: 0.1222 - accuracy: 0.9538 - val_loss: 0.2331 - val_accuracy: 0.9065\n",
            "Epoch 3/20\n",
            "410/410 [==============================] - ETA: 0s - loss: 0.0438 - accuracy: 0.9869INFO:tensorflow:Assets written to: /content/models/03/assets\n",
            "410/410 [==============================] - 258s 628ms/step - loss: 0.0438 - accuracy: 0.9869 - val_loss: 0.1478 - val_accuracy: 0.9496\n",
            "Epoch 4/20\n",
            "410/410 [==============================] - ETA: 0s - loss: 0.0279 - accuracy: 0.9908INFO:tensorflow:Assets written to: /content/models/04/assets\n",
            "410/410 [==============================] - 258s 630ms/step - loss: 0.0279 - accuracy: 0.9908 - val_loss: 0.1541 - val_accuracy: 0.9514\n",
            "Epoch 5/20\n",
            "410/410 [==============================] - ETA: 0s - loss: 0.0173 - accuracy: 0.9960INFO:tensorflow:Assets written to: /content/models/05/assets\n",
            "410/410 [==============================] - 259s 632ms/step - loss: 0.0173 - accuracy: 0.9960 - val_loss: 0.1641 - val_accuracy: 0.9493\n",
            "Epoch 6/20\n",
            "410/410 [==============================] - ETA: 0s - loss: 0.0133 - accuracy: 0.9963INFO:tensorflow:Assets written to: /content/models/06/assets\n",
            "410/410 [==============================] - 256s 624ms/step - loss: 0.0133 - accuracy: 0.9963 - val_loss: 0.1719 - val_accuracy: 0.9499\n",
            "Epoch 7/20\n",
            "410/410 [==============================] - ETA: 0s - loss: 0.0172 - accuracy: 0.9947INFO:tensorflow:Assets written to: /content/models/07/assets\n",
            "410/410 [==============================] - 256s 624ms/step - loss: 0.0172 - accuracy: 0.9947 - val_loss: 0.2039 - val_accuracy: 0.9365\n",
            "Epoch 8/20\n",
            "410/410 [==============================] - ETA: 0s - loss: 0.0164 - accuracy: 0.9950INFO:tensorflow:Assets written to: /content/models/08/assets\n",
            "410/410 [==============================] - 254s 620ms/step - loss: 0.0164 - accuracy: 0.9950 - val_loss: 0.1759 - val_accuracy: 0.9496\n",
            "Epoch 9/20\n",
            "410/410 [==============================] - ETA: 0s - loss: 0.0087 - accuracy: 0.9978INFO:tensorflow:Assets written to: /content/models/09/assets\n",
            "410/410 [==============================] - 253s 618ms/step - loss: 0.0087 - accuracy: 0.9978 - val_loss: 0.1653 - val_accuracy: 0.9557\n",
            "Epoch 10/20\n",
            "410/410 [==============================] - ETA: 0s - loss: 0.0073 - accuracy: 0.9979INFO:tensorflow:Assets written to: /content/models/10/assets\n",
            "410/410 [==============================] - 253s 618ms/step - loss: 0.0073 - accuracy: 0.9979 - val_loss: 0.1726 - val_accuracy: 0.9533\n",
            "Epoch 11/20\n",
            "410/410 [==============================] - ETA: 0s - loss: 0.0056 - accuracy: 0.9984INFO:tensorflow:Assets written to: /content/models/11/assets\n",
            "410/410 [==============================] - 255s 622ms/step - loss: 0.0056 - accuracy: 0.9984 - val_loss: 0.1637 - val_accuracy: 0.9563\n",
            "Epoch 12/20\n",
            "410/410 [==============================] - ETA: 0s - loss: 0.0090 - accuracy: 0.9972INFO:tensorflow:Assets written to: /content/models/12/assets\n",
            "410/410 [==============================] - 256s 625ms/step - loss: 0.0090 - accuracy: 0.9972 - val_loss: 0.1814 - val_accuracy: 0.9530\n",
            "Epoch 13/20\n",
            "410/410 [==============================] - ETA: 0s - loss: 0.0058 - accuracy: 0.9986INFO:tensorflow:Assets written to: /content/models/13/assets\n",
            "410/410 [==============================] - 256s 625ms/step - loss: 0.0058 - accuracy: 0.9986 - val_loss: 0.1672 - val_accuracy: 0.9575\n",
            "Epoch 14/20\n",
            "410/410 [==============================] - ETA: 0s - loss: 0.0333 - accuracy: 0.9903INFO:tensorflow:Assets written to: /content/models/14/assets\n",
            "410/410 [==============================] - 252s 616ms/step - loss: 0.0333 - accuracy: 0.9903 - val_loss: 0.2390 - val_accuracy: 0.9407\n",
            "Epoch 15/20\n",
            "410/410 [==============================] - ETA: 0s - loss: 0.0119 - accuracy: 0.9966INFO:tensorflow:Assets written to: /content/models/15/assets\n",
            "410/410 [==============================] - 255s 622ms/step - loss: 0.0119 - accuracy: 0.9966 - val_loss: 0.1873 - val_accuracy: 0.9493\n",
            "Epoch 16/20\n",
            "410/410 [==============================] - ETA: 0s - loss: 0.0062 - accuracy: 0.9982INFO:tensorflow:Assets written to: /content/models/16/assets\n",
            "410/410 [==============================] - 257s 628ms/step - loss: 0.0062 - accuracy: 0.9982 - val_loss: 0.1772 - val_accuracy: 0.9542\n",
            "Epoch 17/20\n",
            "410/410 [==============================] - ETA: 0s - loss: 0.0030 - accuracy: 0.9993INFO:tensorflow:Assets written to: /content/models/17/assets\n",
            "410/410 [==============================] - 261s 636ms/step - loss: 0.0030 - accuracy: 0.9993 - val_loss: 0.1786 - val_accuracy: 0.9575\n",
            "Epoch 18/20\n",
            "410/410 [==============================] - ETA: 0s - loss: 0.0069 - accuracy: 0.9976INFO:tensorflow:Assets written to: /content/models/18/assets\n",
            "410/410 [==============================] - 262s 639ms/step - loss: 0.0069 - accuracy: 0.9976 - val_loss: 0.1789 - val_accuracy: 0.9569\n"
          ],
          "name": "stdout"
        }
      ]
    },
    {
      "cell_type": "code",
      "metadata": {
        "colab": {
          "base_uri": "https://localhost:8080/",
          "height": 279
        },
        "id": "tF_6-TW8wB8W",
        "outputId": "3c1e324e-a243-4b62-ea19-37ba02a4e4ec"
      },
      "source": [
        "# Plot train and test accuracies per epoch\n",
        "\n",
        "plt.plot(history.history['accuracy'], label='accuracy')\n",
        "plt.plot(history.history['val_accuracy'], label='val_accuracy')\n",
        "plt.xlabel('Epoch')\n",
        "plt.ylabel('Accuracy')\n",
        "plt.legend(loc='lower right')\n",
        "plt.show()"
      ],
      "execution_count": null,
      "outputs": [
        {
          "output_type": "display_data",
          "data": {
            "image/png": "[encoded data removed]",
            "text/plain": [
              "<Figure size 432x288 with 1 Axes>"
            ]
          },
          "metadata": {
            "tags": []
          }
        }
      ]
    },
    {
      "cell_type": "code",
      "metadata": {
        "colab": {
          "base_uri": "https://localhost:8080/",
          "height": 279
        },
        "id": "SRPAFrWSw-ZS",
        "outputId": "877b1b24-146b-4768-b8c3-e6e55c8e407c"
      },
      "source": [
        "# Plot confusion matrix for model\n",
        "\n",
        "from sklearn.metrics import confusion_matrix\n",
        "import seaborn as sb\n",
        "\n",
        "model.add(tf.keras.layers.Softmax())\n",
        "predict = model.predict(test_data_gen)\n",
        "model.pop()\n",
        "\n",
        "predict = np.argmax(predict, axis=1)\n",
        "\n",
        "cm = confusion_matrix(test_data_gen.classes, predict)\n",
        "sb.heatmap(cm, annot=True, fmt='d', cmap='Blues')\n",
        "plt.ylabel('True label')\n",
        "plt.xlabel('Predicted label')\n",
        "plt.show()"
      ],
      "execution_count": null,
      "outputs": [
        {
          "output_type": "display_data",
          "data": {
            "image/png": "[encoded data removed]",
            "text/plain": [
              "<Figure size 432x288 with 2 Axes>"
            ]
          },
          "metadata": {
            "tags": []
          }
        }
      ]
    },
    {
      "cell_type": "markdown",
      "metadata": {
        "id": "ULOCfSqqNXmC"
      },
      "source": [
        "\n",
        "\n",
        "---\n",
        "\n",
        "# 1. Modify architecture, various techniques"
      ]
    },
    {
      "cell_type": "markdown",
      "metadata": {
        "id": "bhEd4qP94BnO"
      },
      "source": [
        "## ImageNet weights, Data augmentation"
      ]
    },
    {
      "cell_type": "code",
      "metadata": {
        "colab": {
          "base_uri": "https://localhost:8080/"
        },
        "id": "_1NSopgS4GgC",
        "outputId": "f8d5b2d2-49a0-4bf3-adc9-19dfb67d3ff9"
      },
      "source": [
        "# Generate train dataset with data augmentation\n",
        "\n",
        "image_generator = tf.keras.preprocessing.image.ImageDataGenerator(rescale=1./255,\n",
        "                                                                  rotation_range=15,\n",
        "                                                                  width_shift_range=0.1,\n",
        "                                                                  height_shift_range=0.1,\n",
        "                                                                  brightness_range=[0.9,1.1],\n",
        "                                                                  zoom_range=[0.9,1.1],\n",
        "                                                                  horizontal_flip=True,\n",
        "                                                                  vertical_flip=False)\n",
        "train_data_gen = image_generator.flow_from_dataframe(train_df,\n",
        "                                                     directory='/content/aligned/',\n",
        "                                                     x_col='filepath',\n",
        "                                                     y_col='gender',\n",
        "                                                     target_size=(IMG_HEIGHT,IMG_WIDTH),\n",
        "                                                     class_mode='categorical',\n",
        "                                                     batch_size=BATCH_SIZE,\n",
        "                                                     shuffle=True,\n",
        "                                                     seed=SEED)"
      ],
      "execution_count": null,
      "outputs": [
        {
          "output_type": "stream",
          "text": [
            "Found 13092 validated image filenames belonging to 2 classes.\n"
          ],
          "name": "stdout"
        }
      ]
    },
    {
      "cell_type": "code",
      "metadata": {
        "id": "YKpLsQFL5gjO"
      },
      "source": [
        "# Initialise InceptionV3 model, with pretrained ImageNet weights\n",
        "\n",
        "base_model = tf.keras.applications.InceptionV3(include_top=False,\n",
        "                                               weights='imagenet',\n",
        "                                               input_shape=(IMG_HEIGHT, IMG_WIDTH, 3),\n",
        "                                               pooling='avg')\n",
        "model = tf.keras.models.Sequential(base_model)\n",
        "model.add(tf.keras.layers.Dense(2))\n",
        "\n",
        "model.compile(optimizer='sgd',\n",
        "              loss=tf.keras.losses.CategoricalCrossentropy(from_logits=True),\n",
        "              metrics=['accuracy'])"
      ],
      "execution_count": null,
      "outputs": []
    },
    {
      "cell_type": "code",
      "metadata": {
        "colab": {
          "base_uri": "https://localhost:8080/"
        },
        "id": "6y3GlUQe5gjd",
        "outputId": "7751e3aa-8f1b-4b32-a976-832ea5ee7e1d"
      },
      "source": [
        "history = model.fit(train_data_gen,\n",
        "                    epochs=25,\n",
        "                    initial_epoch=0,\n",
        "                    validation_data=test_data_gen,\n",
        "                    callbacks=[early_stop, checkpoint, log, time_callback],\n",
        "                    verbose=1)"
      ],
      "execution_count": null,
      "outputs": [
        {
          "output_type": "stream",
          "text": [
            "Epoch 1/25\n",
            "410/410 [==============================] - ETA: 0s - loss: 0.3523 - accuracy: 0.8384INFO:tensorflow:Assets written to: /content/models/01/assets\n",
            "410/410 [==============================] - 522s 1s/step - loss: 0.3523 - accuracy: 0.8384 - val_loss: 0.2434 - val_accuracy: 0.8998\n",
            "Epoch 2/25\n",
            "410/410 [==============================] - ETA: 0s - loss: 0.1779 - accuracy: 0.9280INFO:tensorflow:Assets written to: /content/models/02/assets\n",
            "410/410 [==============================] - 517s 1s/step - loss: 0.1779 - accuracy: 0.9280 - val_loss: 0.1511 - val_accuracy: 0.9420\n",
            "Epoch 3/25\n",
            "410/410 [==============================] - ETA: 0s - loss: 0.1323 - accuracy: 0.9500INFO:tensorflow:Assets written to: /content/models/03/assets\n",
            "410/410 [==============================] - 534s 1s/step - loss: 0.1323 - accuracy: 0.9500 - val_loss: 0.1279 - val_accuracy: 0.9557\n",
            "Epoch 4/25\n",
            "410/410 [==============================] - ETA: 0s - loss: 0.0962 - accuracy: 0.9650INFO:tensorflow:Assets written to: /content/models/04/assets\n",
            "410/410 [==============================] - 531s 1s/step - loss: 0.0962 - accuracy: 0.9650 - val_loss: 0.1286 - val_accuracy: 0.9527\n",
            "Epoch 5/25\n",
            "410/410 [==============================] - ETA: 0s - loss: 0.0793 - accuracy: 0.9705INFO:tensorflow:Assets written to: /content/models/05/assets\n",
            "410/410 [==============================] - 521s 1s/step - loss: 0.0793 - accuracy: 0.9705 - val_loss: 0.1273 - val_accuracy: 0.9530\n",
            "Epoch 6/25\n",
            "410/410 [==============================] - ETA: 0s - loss: 0.0604 - accuracy: 0.9802INFO:tensorflow:Assets written to: /content/models/06/assets\n",
            "410/410 [==============================] - 515s 1s/step - loss: 0.0604 - accuracy: 0.9802 - val_loss: 0.1354 - val_accuracy: 0.9578\n",
            "Epoch 7/25\n",
            "410/410 [==============================] - ETA: 0s - loss: 0.0545 - accuracy: 0.9812INFO:tensorflow:Assets written to: /content/models/07/assets\n",
            "410/410 [==============================] - 513s 1s/step - loss: 0.0545 - accuracy: 0.9812 - val_loss: 0.1106 - val_accuracy: 0.9627\n",
            "Epoch 8/25\n",
            "410/410 [==============================] - ETA: 0s - loss: 0.0484 - accuracy: 0.9835INFO:tensorflow:Assets written to: /content/models/08/assets\n",
            "410/410 [==============================] - 514s 1s/step - loss: 0.0484 - accuracy: 0.9835 - val_loss: 0.1251 - val_accuracy: 0.9591\n",
            "Epoch 9/25\n",
            "410/410 [==============================] - ETA: 0s - loss: 0.0368 - accuracy: 0.9864INFO:tensorflow:Assets written to: /content/models/09/assets\n",
            "410/410 [==============================] - 513s 1s/step - loss: 0.0368 - accuracy: 0.9864 - val_loss: 0.1321 - val_accuracy: 0.9582\n",
            "Epoch 10/25\n",
            "410/410 [==============================] - ETA: 0s - loss: 0.0374 - accuracy: 0.9873INFO:tensorflow:Assets written to: /content/models/10/assets\n",
            "410/410 [==============================] - 514s 1s/step - loss: 0.0374 - accuracy: 0.9873 - val_loss: 0.1473 - val_accuracy: 0.9539\n",
            "Epoch 11/25\n",
            "410/410 [==============================] - ETA: 0s - loss: 0.0303 - accuracy: 0.9892INFO:tensorflow:Assets written to: /content/models/11/assets\n",
            "410/410 [==============================] - 512s 1s/step - loss: 0.0303 - accuracy: 0.9892 - val_loss: 0.1102 - val_accuracy: 0.9679\n",
            "Epoch 12/25\n",
            "410/410 [==============================] - ETA: 0s - loss: 0.0273 - accuracy: 0.9908INFO:tensorflow:Assets written to: /content/models/12/assets\n",
            "410/410 [==============================] - 512s 1s/step - loss: 0.0273 - accuracy: 0.9908 - val_loss: 0.1116 - val_accuracy: 0.9688\n",
            "Epoch 13/25\n",
            "410/410 [==============================] - ETA: 0s - loss: 0.0256 - accuracy: 0.9914INFO:tensorflow:Assets written to: /content/models/13/assets\n",
            "410/410 [==============================] - 513s 1s/step - loss: 0.0256 - accuracy: 0.9914 - val_loss: 0.1310 - val_accuracy: 0.9633\n",
            "Epoch 14/25\n",
            "410/410 [==============================] - ETA: 0s - loss: 0.0422 - accuracy: 0.9858INFO:tensorflow:Assets written to: /content/models/14/assets\n",
            "410/410 [==============================] - 513s 1s/step - loss: 0.0422 - accuracy: 0.9858 - val_loss: 0.1193 - val_accuracy: 0.9667\n",
            "Epoch 15/25\n",
            "410/410 [==============================] - ETA: 0s - loss: 0.0270 - accuracy: 0.9899INFO:tensorflow:Assets written to: /content/models/15/assets\n",
            "410/410 [==============================] - 514s 1s/step - loss: 0.0270 - accuracy: 0.9899 - val_loss: 0.1117 - val_accuracy: 0.9676\n",
            "Epoch 16/25\n",
            "410/410 [==============================] - ETA: 0s - loss: 0.0186 - accuracy: 0.9937INFO:tensorflow:Assets written to: /content/models/16/assets\n",
            "410/410 [==============================] - 513s 1s/step - loss: 0.0186 - accuracy: 0.9937 - val_loss: 0.1101 - val_accuracy: 0.9695\n",
            "Epoch 17/25\n",
            "410/410 [==============================] - ETA: 0s - loss: 0.0193 - accuracy: 0.9942INFO:tensorflow:Assets written to: /content/models/17/assets\n",
            "410/410 [==============================] - 512s 1s/step - loss: 0.0193 - accuracy: 0.9942 - val_loss: 0.1150 - val_accuracy: 0.9667\n",
            "Epoch 18/25\n",
            "410/410 [==============================] - ETA: 0s - loss: 0.0190 - accuracy: 0.9940INFO:tensorflow:Assets written to: /content/models/18/assets\n",
            "410/410 [==============================] - 513s 1s/step - loss: 0.0190 - accuracy: 0.9940 - val_loss: 0.1158 - val_accuracy: 0.9710\n",
            "Epoch 19/25\n",
            "410/410 [==============================] - ETA: 0s - loss: 0.0128 - accuracy: 0.9961INFO:tensorflow:Assets written to: /content/models/19/assets\n",
            "410/410 [==============================] - 517s 1s/step - loss: 0.0128 - accuracy: 0.9961 - val_loss: 0.1103 - val_accuracy: 0.9728\n",
            "Epoch 20/25\n",
            "410/410 [==============================] - ETA: 0s - loss: 0.0139 - accuracy: 0.9962INFO:tensorflow:Assets written to: /content/models/20/assets\n",
            "410/410 [==============================] - 507s 1s/step - loss: 0.0139 - accuracy: 0.9962 - val_loss: 0.1128 - val_accuracy: 0.9707\n",
            "Epoch 21/25\n",
            "410/410 [==============================] - ETA: 0s - loss: 0.0123 - accuracy: 0.9963INFO:tensorflow:Assets written to: /content/models/21/assets\n",
            "410/410 [==============================] - 505s 1s/step - loss: 0.0123 - accuracy: 0.9963 - val_loss: 0.1238 - val_accuracy: 0.9692\n",
            "Epoch 22/25\n",
            "410/410 [==============================] - ETA: 0s - loss: 0.0222 - accuracy: 0.9937INFO:tensorflow:Assets written to: /content/models/22/assets\n",
            "410/410 [==============================] - 505s 1s/step - loss: 0.0222 - accuracy: 0.9937 - val_loss: 0.1277 - val_accuracy: 0.9667\n",
            "Epoch 23/25\n",
            "410/410 [==============================] - ETA: 0s - loss: 0.0201 - accuracy: 0.9934INFO:tensorflow:Assets written to: /content/models/23/assets\n",
            "410/410 [==============================] - 503s 1s/step - loss: 0.0201 - accuracy: 0.9934 - val_loss: 0.1235 - val_accuracy: 0.9685\n",
            "Epoch 24/25\n",
            "410/410 [==============================] - ETA: 0s - loss: 0.0115 - accuracy: 0.9966INFO:tensorflow:Assets written to: /content/models/24/assets\n",
            "410/410 [==============================] - 502s 1s/step - loss: 0.0115 - accuracy: 0.9966 - val_loss: 0.1256 - val_accuracy: 0.9710\n"
          ],
          "name": "stdout"
        }
      ]
    },
    {
      "cell_type": "code",
      "metadata": {
        "colab": {
          "base_uri": "https://localhost:8080/",
          "height": 297
        },
        "id": "smbdHEeA50ZY",
        "outputId": "26fa1301-c673-48a1-b9b9-5d843c5c4c29"
      },
      "source": [
        "# Plot train and test accuracies per epoch\n",
        "\n",
        "plt.plot(history.history['accuracy'], label='Train Accuracy')\n",
        "plt.plot(history.history['val_accuracy'], label='Test Accuracy')\n",
        "plt.xlabel('Epoch')\n",
        "plt.ylabel('Accuracy')\n",
        "plt.legend(loc='lower right')"
      ],
      "execution_count": null,
      "outputs": [
        {
          "output_type": "execute_result",
          "data": {
            "text/plain": [
              "<matplotlib.legend.Legend at 0x7eff7ce9bb00>"
            ]
          },
          "metadata": {
            "tags": []
          },
          "execution_count": 27
        },
        {
          "output_type": "display_data",
          "data": {
            "image/png": "[encoded data removed]",
            "text/plain": [
              "<Figure size 432x288 with 1 Axes>"
            ]
          },
          "metadata": {
            "tags": []
          }
        }
      ]
    },
    {
      "cell_type": "code",
      "metadata": {
        "colab": {
          "base_uri": "https://localhost:8080/",
          "height": 279
        },
        "id": "-yZ30wqC50Zc",
        "outputId": "cbbb40b2-913f-461f-a3f4-6ce99477ad8a"
      },
      "source": [
        "# Plot confusion matrix for model\n",
        "\n",
        "from sklearn.metrics import confusion_matrix\n",
        "import seaborn as sb\n",
        "\n",
        "model.add(tf.keras.layers.Softmax())\n",
        "predict = model.predict(test_data_gen)\n",
        "model.pop()\n",
        "\n",
        "predict = np.argmax(predict, axis=1)\n",
        "\n",
        "cm = confusion_matrix(test_data_gen.classes, predict)\n",
        "sb.heatmap(cm, annot=True, fmt='d', cmap='Blues')\n",
        "plt.ylabel('True label')\n",
        "plt.xlabel('Predicted label')\n",
        "plt.show()"
      ],
      "execution_count": null,
      "outputs": [
        {
          "output_type": "display_data",
          "data": {
            "image/png": "[encoded data removed]",
            "text/plain": [
              "<Figure size 432x288 with 2 Axes>"
            ]
          },
          "metadata": {
            "tags": []
          }
        }
      ]
    },
    {
      "cell_type": "code",
      "metadata": {
        "colab": {
          "base_uri": "https://localhost:8080/",
          "height": 301
        },
        "id": "aqrPlYVai7h9",
        "outputId": "3ccbee75-624f-4084-d853-945f34da6bf8"
      },
      "source": [
        "# Compare with baseline\n",
        "plt.plot(history.history['accuracy'], label='Train Accuracy')\n",
        "plt.plot(history.history['val_accuracy'], label='Test Accuracy')\n",
        "plt.plot(histories['benchmark'][0].history['accuracy'], label='Benchmark Train Accuracy')\n",
        "plt.plot(histories['benchmark'][0].history['val_accuracy'], label='Benchmark Test Accuracy')\n",
        "plt.xlabel('Epoch')\n",
        "plt.ylabel('Accuracy')\n",
        "plt.ylim([0.5, 1])\n",
        "plt.legend(loc='lower right')"
      ],
      "execution_count": null,
      "outputs": [
        {
          "output_type": "execute_result",
          "data": {
            "text/plain": [
              "<matplotlib.legend.Legend at 0x7eff7961e978>"
            ]
          },
          "metadata": {
            "tags": []
          },
          "execution_count": 30
        },
        {
          "output_type": "display_data",
          "data": {
            "image/png": "[encoded data removed]",
            "text/plain": [
              "<Figure size 432x288 with 1 Axes>"
            ]
          },
          "metadata": {
            "tags": []
          }
        }
      ]
    },
    {
      "cell_type": "code",
      "metadata": {
        "colab": {
          "base_uri": "https://localhost:8080/",
          "height": 110
        },
        "id": "axxIOvyvjj-n",
        "outputId": "502c320e-9b90-4683-87bd-4b02eefa97e3"
      },
      "source": [
        "# Compare time taken to train with and without data augmentation\n",
        "\n",
        "pd.DataFrame([[sum(histories['benchmark'][1][1:]) / len(histories['benchmark'][1][1:]), sum(histories['benchmark'][1])],\n",
        "              [sum(time_callback.times[1:])/len(time_callback.times[1:]),sum(time_callback.times)]],\n",
        "             ['Benchmark', 'Current'],\n",
        "             ['Avg per Epoch', 'Total training time'])"
      ],
      "execution_count": null,
      "outputs": [
        {
          "output_type": "execute_result",
          "data": {
            "text/html": [
              "<div>\n",
              "<style scoped>\n",
              "    .dataframe tbody tr th:only-of-type {\n",
              "        vertical-align: middle;\n",
              "    }\n",
              "\n",
              "    .dataframe tbody tr th {\n",
              "        vertical-align: top;\n",
              "    }\n",
              "\n",
              "    .dataframe thead th {\n",
              "        text-align: right;\n",
              "    }\n",
              "</style>\n",
              "<table border=\"1\" class=\"dataframe\">\n",
              "  <thead>\n",
              "    <tr style=\"text-align: right;\">\n",
              "      <th></th>\n",
              "      <th>Avg per Epoch</th>\n",
              "      <th>Total training time</th>\n",
              "    </tr>\n",
              "  </thead>\n",
              "  <tbody>\n",
              "    <tr>\n",
              "      <th>Benchmark</th>\n",
              "      <td>274.502737</td>\n",
              "      <td>2481.344435</td>\n",
              "    </tr>\n",
              "    <tr>\n",
              "      <th>Current</th>\n",
              "      <td>515.069000</td>\n",
              "      <td>12374.432937</td>\n",
              "    </tr>\n",
              "  </tbody>\n",
              "</table>\n",
              "</div>"
            ],
            "text/plain": [
              "           Avg per Epoch  Total training time\n",
              "Benchmark     274.502737          2481.344435\n",
              "Current       515.069000         12374.432937"
            ]
          },
          "metadata": {
            "tags": []
          },
          "execution_count": 33
        }
      ]
    },
    {
      "cell_type": "markdown",
      "metadata": {
        "id": "GhPPU3qaTuUU"
      },
      "source": [
        "## No Pretrained Weights"
      ]
    },
    {
      "cell_type": "code",
      "metadata": {
        "id": "BM60KFP6Tyua"
      },
      "source": [
        "# Initialise InceptionV3 model, with pretrained ImageNet weights\n",
        "\n",
        "base_model = tf.keras.applications.InceptionV3(include_top=False,\n",
        "                                               weights=None,\n",
        "                                               input_shape=(IMG_HEIGHT, IMG_WIDTH, 3),\n",
        "                                               pooling='avg')\n",
        "model = tf.keras.models.Sequential(base_model)\n",
        "model.add(tf.keras.layers.Dense(2))\n",
        "\n",
        "model.compile(optimizer='sgd',\n",
        "              loss=tf.keras.losses.CategoricalCrossentropy(from_logits=True),\n",
        "              metrics=['accuracy'])"
      ],
      "execution_count": null,
      "outputs": []
    },
    {
      "cell_type": "code",
      "metadata": {
        "colab": {
          "base_uri": "https://localhost:8080/"
        },
        "id": "DVWpTat0Tyuj",
        "outputId": "0ba1fcfc-4d51-4379-a3ce-a48c7894df72"
      },
      "source": [
        "history = model.fit(train_data_gen,\n",
        "                    epochs=100,\n",
        "                    initial_epoch=0,\n",
        "                    validation_data=test_data_gen,\n",
        "                    callbacks=[early_stop, checkpoint, log, time_callback],\n",
        "                    verbose=1)"
      ],
      "execution_count": null,
      "outputs": [
        {
          "output_type": "stream",
          "text": [
            "Epoch 1/100\n",
            "410/410 [==============================] - ETA: 0s - loss: 0.7145 - accuracy: 0.5606INFO:tensorflow:Assets written to: /content/models/01/assets\n",
            "410/410 [==============================] - 537s 1s/step - loss: 0.7145 - accuracy: 0.5606 - val_loss: 0.6911 - val_accuracy: 0.6072\n",
            "Epoch 2/100\n",
            "410/410 [==============================] - ETA: 0s - loss: 0.6746 - accuracy: 0.6130INFO:tensorflow:Assets written to: /content/models/02/assets\n",
            "410/410 [==============================] - 526s 1s/step - loss: 0.6746 - accuracy: 0.6130 - val_loss: 0.6694 - val_accuracy: 0.5947\n",
            "Epoch 3/100\n",
            "410/410 [==============================] - ETA: 0s - loss: 0.6293 - accuracy: 0.6556INFO:tensorflow:Assets written to: /content/models/03/assets\n",
            "410/410 [==============================] - 511s 1s/step - loss: 0.6293 - accuracy: 0.6556 - val_loss: 0.6604 - val_accuracy: 0.6335\n",
            "Epoch 4/100\n",
            "410/410 [==============================] - ETA: 0s - loss: 0.6062 - accuracy: 0.6768INFO:tensorflow:Assets written to: /content/models/04/assets\n",
            "410/410 [==============================] - 502s 1s/step - loss: 0.6062 - accuracy: 0.6768 - val_loss: 0.6031 - val_accuracy: 0.6784\n",
            "Epoch 5/100\n",
            "410/410 [==============================] - ETA: 0s - loss: 0.5785 - accuracy: 0.6977INFO:tensorflow:Assets written to: /content/models/05/assets\n",
            "410/410 [==============================] - 534s 1s/step - loss: 0.5785 - accuracy: 0.6977 - val_loss: 0.7653 - val_accuracy: 0.5889\n",
            "Epoch 6/100\n",
            "410/410 [==============================] - ETA: 0s - loss: 0.5582 - accuracy: 0.7114INFO:tensorflow:Assets written to: /content/models/06/assets\n",
            "410/410 [==============================] - 528s 1s/step - loss: 0.5582 - accuracy: 0.7114 - val_loss: 0.7675 - val_accuracy: 0.6255\n",
            "Epoch 7/100\n",
            "410/410 [==============================] - ETA: 0s - loss: 0.5284 - accuracy: 0.7332INFO:tensorflow:Assets written to: /content/models/07/assets\n",
            "410/410 [==============================] - 528s 1s/step - loss: 0.5284 - accuracy: 0.7332 - val_loss: 0.4975 - val_accuracy: 0.7584\n",
            "Epoch 8/100\n",
            "410/410 [==============================] - ETA: 0s - loss: 0.5093 - accuracy: 0.7487INFO:tensorflow:Assets written to: /content/models/08/assets\n",
            "410/410 [==============================] - 531s 1s/step - loss: 0.5093 - accuracy: 0.7487 - val_loss: 0.7551 - val_accuracy: 0.6549\n",
            "Epoch 9/100\n",
            "410/410 [==============================] - ETA: 0s - loss: 0.4875 - accuracy: 0.7650INFO:tensorflow:Assets written to: /content/models/09/assets\n",
            "410/410 [==============================] - 496s 1s/step - loss: 0.4875 - accuracy: 0.7650 - val_loss: 0.4176 - val_accuracy: 0.8079\n",
            "Epoch 10/100\n",
            "410/410 [==============================] - ETA: 0s - loss: 0.4623 - accuracy: 0.7778INFO:tensorflow:Assets written to: /content/models/10/assets\n",
            "410/410 [==============================] - 487s 1s/step - loss: 0.4623 - accuracy: 0.7778 - val_loss: 0.5259 - val_accuracy: 0.7376\n",
            "Epoch 11/100\n",
            "410/410 [==============================] - ETA: 0s - loss: 0.4398 - accuracy: 0.7892INFO:tensorflow:Assets written to: /content/models/11/assets\n",
            "410/410 [==============================] - 485s 1s/step - loss: 0.4398 - accuracy: 0.7892 - val_loss: 0.7299 - val_accuracy: 0.6897\n",
            "Epoch 12/100\n",
            "410/410 [==============================] - ETA: 0s - loss: 0.4164 - accuracy: 0.8060INFO:tensorflow:Assets written to: /content/models/12/assets\n",
            "410/410 [==============================] - 488s 1s/step - loss: 0.4164 - accuracy: 0.8060 - val_loss: 0.4007 - val_accuracy: 0.8204\n",
            "Epoch 13/100\n",
            "410/410 [==============================] - ETA: 0s - loss: 0.3993 - accuracy: 0.8172INFO:tensorflow:Assets written to: /content/models/13/assets\n",
            "410/410 [==============================] - 484s 1s/step - loss: 0.3993 - accuracy: 0.8172 - val_loss: 0.5537 - val_accuracy: 0.7593\n",
            "Epoch 14/100\n",
            "410/410 [==============================] - ETA: 0s - loss: 0.3747 - accuracy: 0.8288INFO:tensorflow:Assets written to: /content/models/14/assets\n",
            "410/410 [==============================] - 480s 1s/step - loss: 0.3747 - accuracy: 0.8288 - val_loss: 0.4623 - val_accuracy: 0.8021\n",
            "Epoch 15/100\n",
            "410/410 [==============================] - ETA: 0s - loss: 0.3635 - accuracy: 0.8381INFO:tensorflow:Assets written to: /content/models/15/assets\n",
            "410/410 [==============================] - 499s 1s/step - loss: 0.3635 - accuracy: 0.8381 - val_loss: 0.3780 - val_accuracy: 0.8326\n",
            "Epoch 16/100\n",
            "410/410 [==============================] - ETA: 0s - loss: 0.3506 - accuracy: 0.8397INFO:tensorflow:Assets written to: /content/models/16/assets\n",
            "410/410 [==============================] - 499s 1s/step - loss: 0.3506 - accuracy: 0.8397 - val_loss: 0.3745 - val_accuracy: 0.8341\n",
            "Epoch 17/100\n",
            "410/410 [==============================] - ETA: 0s - loss: 0.3394 - accuracy: 0.8500INFO:tensorflow:Assets written to: /content/models/17/assets\n",
            "410/410 [==============================] - 496s 1s/step - loss: 0.3394 - accuracy: 0.8500 - val_loss: 0.3821 - val_accuracy: 0.8198\n",
            "Epoch 18/100\n",
            "410/410 [==============================] - ETA: 0s - loss: 0.3300 - accuracy: 0.8560INFO:tensorflow:Assets written to: /content/models/18/assets\n",
            "410/410 [==============================] - 506s 1s/step - loss: 0.3300 - accuracy: 0.8560 - val_loss: 0.3656 - val_accuracy: 0.8470\n",
            "Epoch 19/100\n",
            "410/410 [==============================] - ETA: 0s - loss: 0.3089 - accuracy: 0.8667INFO:tensorflow:Assets written to: /content/models/19/assets\n",
            "410/410 [==============================] - 500s 1s/step - loss: 0.3089 - accuracy: 0.8667 - val_loss: 0.3728 - val_accuracy: 0.8372\n",
            "Epoch 20/100\n",
            "410/410 [==============================] - ETA: 0s - loss: 0.2972 - accuracy: 0.8698INFO:tensorflow:Assets written to: /content/models/20/assets\n",
            "410/410 [==============================] - 487s 1s/step - loss: 0.2972 - accuracy: 0.8698 - val_loss: 0.3117 - val_accuracy: 0.8629\n",
            "Epoch 21/100\n",
            "410/410 [==============================] - ETA: 0s - loss: 0.2870 - accuracy: 0.8739INFO:tensorflow:Assets written to: /content/models/21/assets\n",
            "410/410 [==============================] - 482s 1s/step - loss: 0.2870 - accuracy: 0.8739 - val_loss: 0.3235 - val_accuracy: 0.8522\n",
            "Epoch 22/100\n",
            "410/410 [==============================] - ETA: 0s - loss: 0.2837 - accuracy: 0.8779INFO:tensorflow:Assets written to: /content/models/22/assets\n",
            "410/410 [==============================] - 480s 1s/step - loss: 0.2837 - accuracy: 0.8779 - val_loss: 0.3586 - val_accuracy: 0.8464\n",
            "Epoch 23/100\n",
            "410/410 [==============================] - ETA: 0s - loss: 0.2651 - accuracy: 0.8873INFO:tensorflow:Assets written to: /content/models/23/assets\n",
            "410/410 [==============================] - 482s 1s/step - loss: 0.2651 - accuracy: 0.8873 - val_loss: 0.3018 - val_accuracy: 0.8702\n",
            "Epoch 24/100\n",
            "410/410 [==============================] - ETA: 0s - loss: 0.2552 - accuracy: 0.8941INFO:tensorflow:Assets written to: /content/models/24/assets\n",
            "410/410 [==============================] - 486s 1s/step - loss: 0.2552 - accuracy: 0.8941 - val_loss: 0.3304 - val_accuracy: 0.8577\n",
            "Epoch 25/100\n",
            "410/410 [==============================] - ETA: 0s - loss: 0.2412 - accuracy: 0.9010INFO:tensorflow:Assets written to: /content/models/25/assets\n",
            "410/410 [==============================] - 486s 1s/step - loss: 0.2412 - accuracy: 0.9010 - val_loss: 0.2877 - val_accuracy: 0.8800\n",
            "Epoch 26/100\n",
            "410/410 [==============================] - ETA: 0s - loss: 0.2310 - accuracy: 0.9026INFO:tensorflow:Assets written to: /content/models/26/assets\n",
            "410/410 [==============================] - 493s 1s/step - loss: 0.2310 - accuracy: 0.9026 - val_loss: 0.2903 - val_accuracy: 0.8781\n",
            "Epoch 27/100\n",
            "410/410 [==============================] - ETA: 0s - loss: 0.2257 - accuracy: 0.9071INFO:tensorflow:Assets written to: /content/models/27/assets\n",
            "410/410 [==============================] - 482s 1s/step - loss: 0.2257 - accuracy: 0.9071 - val_loss: 0.2918 - val_accuracy: 0.8836\n",
            "Epoch 28/100\n",
            "410/410 [==============================] - ETA: 0s - loss: 0.2110 - accuracy: 0.9167INFO:tensorflow:Assets written to: /content/models/28/assets\n",
            "410/410 [==============================] - 479s 1s/step - loss: 0.2110 - accuracy: 0.9167 - val_loss: 0.3242 - val_accuracy: 0.8702\n",
            "Epoch 29/100\n",
            "410/410 [==============================] - ETA: 0s - loss: 0.2164 - accuracy: 0.9123INFO:tensorflow:Assets written to: /content/models/29/assets\n",
            "410/410 [==============================] - 480s 1s/step - loss: 0.2164 - accuracy: 0.9123 - val_loss: 0.2722 - val_accuracy: 0.8867\n",
            "Epoch 30/100\n",
            "410/410 [==============================] - ETA: 0s - loss: 0.1935 - accuracy: 0.9203INFO:tensorflow:Assets written to: /content/models/30/assets\n",
            "410/410 [==============================] - 490s 1s/step - loss: 0.1935 - accuracy: 0.9203 - val_loss: 0.3702 - val_accuracy: 0.8528\n",
            "Epoch 31/100\n",
            "410/410 [==============================] - ETA: 0s - loss: 0.1882 - accuracy: 0.9232INFO:tensorflow:Assets written to: /content/models/31/assets\n",
            "410/410 [==============================] - 491s 1s/step - loss: 0.1882 - accuracy: 0.9232 - val_loss: 0.2670 - val_accuracy: 0.8937\n",
            "Epoch 32/100\n",
            "410/410 [==============================] - ETA: 0s - loss: 0.1910 - accuracy: 0.9235INFO:tensorflow:Assets written to: /content/models/32/assets\n",
            "410/410 [==============================] - 497s 1s/step - loss: 0.1910 - accuracy: 0.9235 - val_loss: 0.3229 - val_accuracy: 0.8766\n",
            "Epoch 33/100\n",
            "410/410 [==============================] - ETA: 0s - loss: 0.1745 - accuracy: 0.9314INFO:tensorflow:Assets written to: /content/models/33/assets\n",
            "410/410 [==============================] - 491s 1s/step - loss: 0.1745 - accuracy: 0.9314 - val_loss: 0.3735 - val_accuracy: 0.8598\n",
            "Epoch 34/100\n",
            "410/410 [==============================] - ETA: 0s - loss: 0.1699 - accuracy: 0.9326INFO:tensorflow:Assets written to: /content/models/34/assets\n",
            "410/410 [==============================] - 515s 1s/step - loss: 0.1699 - accuracy: 0.9326 - val_loss: 0.2741 - val_accuracy: 0.8989\n",
            "Epoch 35/100\n",
            "410/410 [==============================] - ETA: 0s - loss: 0.1647 - accuracy: 0.9327INFO:tensorflow:Assets written to: /content/models/35/assets\n",
            "410/410 [==============================] - 497s 1s/step - loss: 0.1647 - accuracy: 0.9327 - val_loss: 0.2455 - val_accuracy: 0.9020\n",
            "Epoch 36/100\n",
            "410/410 [==============================] - ETA: 0s - loss: 0.1558 - accuracy: 0.9389INFO:tensorflow:Assets written to: /content/models/36/assets\n",
            "410/410 [==============================] - 485s 1s/step - loss: 0.1558 - accuracy: 0.9389 - val_loss: 0.2925 - val_accuracy: 0.8864\n",
            "Epoch 37/100\n",
            "410/410 [==============================] - ETA: 0s - loss: 0.1497 - accuracy: 0.9415INFO:tensorflow:Assets written to: /content/models/37/assets\n",
            "410/410 [==============================] - 488s 1s/step - loss: 0.1497 - accuracy: 0.9415 - val_loss: 0.2977 - val_accuracy: 0.8894\n",
            "Epoch 38/100\n",
            "410/410 [==============================] - ETA: 0s - loss: 0.1440 - accuracy: 0.9428INFO:tensorflow:Assets written to: /content/models/38/assets\n",
            "410/410 [==============================] - 487s 1s/step - loss: 0.1440 - accuracy: 0.9428 - val_loss: 0.4326 - val_accuracy: 0.8384\n",
            "Epoch 39/100\n",
            "410/410 [==============================] - ETA: 0s - loss: 0.1406 - accuracy: 0.9447INFO:tensorflow:Assets written to: /content/models/39/assets\n",
            "410/410 [==============================] - 485s 1s/step - loss: 0.1406 - accuracy: 0.9447 - val_loss: 0.2328 - val_accuracy: 0.9108\n",
            "Epoch 40/100\n",
            "410/410 [==============================] - ETA: 0s - loss: 0.1319 - accuracy: 0.9495INFO:tensorflow:Assets written to: /content/models/40/assets\n",
            "410/410 [==============================] - 504s 1s/step - loss: 0.1319 - accuracy: 0.9495 - val_loss: 0.6592 - val_accuracy: 0.8155\n",
            "Epoch 41/100\n",
            "410/410 [==============================] - ETA: 0s - loss: 0.1320 - accuracy: 0.9500INFO:tensorflow:Assets written to: /content/models/41/assets\n",
            "410/410 [==============================] - 509s 1s/step - loss: 0.1320 - accuracy: 0.9500 - val_loss: 0.3063 - val_accuracy: 0.8922\n",
            "Epoch 42/100\n",
            "410/410 [==============================] - ETA: 0s - loss: 0.1307 - accuracy: 0.9492INFO:tensorflow:Assets written to: /content/models/42/assets\n",
            "410/410 [==============================] - 510s 1s/step - loss: 0.1307 - accuracy: 0.9492 - val_loss: 0.2489 - val_accuracy: 0.9059\n",
            "Epoch 43/100\n",
            "410/410 [==============================] - ETA: 0s - loss: 0.1196 - accuracy: 0.9558INFO:tensorflow:Assets written to: /content/models/43/assets\n",
            "410/410 [==============================] - 512s 1s/step - loss: 0.1196 - accuracy: 0.9558 - val_loss: 0.2793 - val_accuracy: 0.8992\n",
            "Epoch 44/100\n",
            "410/410 [==============================] - ETA: 0s - loss: 0.1147 - accuracy: 0.9556INFO:tensorflow:Assets written to: /content/models/44/assets\n",
            "410/410 [==============================] - 510s 1s/step - loss: 0.1147 - accuracy: 0.9556 - val_loss: 0.2725 - val_accuracy: 0.9056\n"
          ],
          "name": "stdout"
        }
      ]
    },
    {
      "cell_type": "code",
      "metadata": {
        "colab": {
          "base_uri": "https://localhost:8080/",
          "height": 279
        },
        "id": "R8sx552WTyuq",
        "outputId": "48436128-1947-4258-bbf2-bc21c0674c34"
      },
      "source": [
        "# Plot train and test accuracies per epoch\n",
        "\n",
        "plt.plot(history.history['accuracy'], label='accuracy')\n",
        "plt.plot(history.history['val_accuracy'], label='val_accuracy')\n",
        "plt.xlabel('Epoch')\n",
        "plt.ylabel('Accuracy')\n",
        "plt.legend(loc='lower right')\n",
        "plt.show()"
      ],
      "execution_count": null,
      "outputs": [
        {
          "output_type": "display_data",
          "data": {
            "image/png": "[encoded data removed]",
            "text/plain": [
              "<Figure size 432x288 with 1 Axes>"
            ]
          },
          "metadata": {
            "tags": []
          }
        }
      ]
    },
    {
      "cell_type": "code",
      "metadata": {
        "colab": {
          "base_uri": "https://localhost:8080/",
          "height": 279
        },
        "id": "91ucrN8JTyut",
        "outputId": "684c9f19-6b12-49b2-d8f6-e0c5d9463703"
      },
      "source": [
        "# Plot confusion matrix for model\n",
        "\n",
        "from sklearn.metrics import confusion_matrix\n",
        "import seaborn as sb\n",
        "\n",
        "model.add(tf.keras.layers.Softmax())\n",
        "predict = model.predict(test_data_gen)\n",
        "model.pop()\n",
        "\n",
        "predict = np.argmax(predict, axis=1)\n",
        "\n",
        "cm = confusion_matrix(test_data_gen.classes, predict)\n",
        "sb.heatmap(cm, annot=True, fmt='d', cmap='Blues')\n",
        "plt.ylabel('True label')\n",
        "plt.xlabel('Predicted label')\n",
        "plt.show()"
      ],
      "execution_count": null,
      "outputs": [
        {
          "output_type": "display_data",
          "data": {
            "image/png": "[encoded data removed]",
            "text/plain": [
              "<Figure size 432x288 with 2 Axes>"
            ]
          },
          "metadata": {
            "tags": []
          }
        }
      ]
    },
    {
      "cell_type": "code",
      "metadata": {
        "colab": {
          "base_uri": "https://localhost:8080/",
          "height": 79
        },
        "id": "HYCLHooeuui_",
        "outputId": "6f196427-3225-43c9-aaa3-dad2c293eaf6"
      },
      "source": [
        "pd.DataFrame([[sum(time_callback.times[1:])/len(time_callback.times[1:]),sum(time_callback.times)]],\n",
        "             ['No Pretrained Weights'],\n",
        "             ['Avg per Epoch', 'Total training time'])"
      ],
      "execution_count": null,
      "outputs": [
        {
          "output_type": "execute_result",
          "data": {
            "text/html": [
              "<div>\n",
              "<style scoped>\n",
              "    .dataframe tbody tr th:only-of-type {\n",
              "        vertical-align: middle;\n",
              "    }\n",
              "\n",
              "    .dataframe tbody tr th {\n",
              "        vertical-align: top;\n",
              "    }\n",
              "\n",
              "    .dataframe thead th {\n",
              "        text-align: right;\n",
              "    }\n",
              "</style>\n",
              "<table border=\"1\" class=\"dataframe\">\n",
              "  <thead>\n",
              "    <tr style=\"text-align: right;\">\n",
              "      <th></th>\n",
              "      <th>Avg per Epoch</th>\n",
              "      <th>Total training time</th>\n",
              "    </tr>\n",
              "  </thead>\n",
              "  <tbody>\n",
              "    <tr>\n",
              "      <th>No Pretrained Weights</th>\n",
              "      <td>498.677362</td>\n",
              "      <td>21987.943659</td>\n",
              "    </tr>\n",
              "  </tbody>\n",
              "</table>\n",
              "</div>"
            ],
            "text/plain": [
              "                       Avg per Epoch  Total training time\n",
              "No Pretrained Weights     498.677362         21987.943659"
            ]
          },
          "metadata": {
            "tags": []
          },
          "execution_count": 22
        }
      ]
    },
    {
      "cell_type": "markdown",
      "metadata": {
        "id": "RzdOHYQawwB-"
      },
      "source": [
        "## Deeper Fully-Connected Layers"
      ]
    },
    {
      "cell_type": "code",
      "metadata": {
        "colab": {
          "base_uri": "https://localhost:8080/"
        },
        "id": "Cynl_jT1w3LA",
        "outputId": "680f8295-6d35-4213-a039-b5c399ff2d5d"
      },
      "source": [
        "# Generate train dataset without data augmentation\n",
        "\n",
        "image_generator = tf.keras.preprocessing.image.ImageDataGenerator(rescale=1./255)\n",
        "\n",
        "train_data_gen = image_generator.flow_from_dataframe(train_df,\n",
        "                                                     directory='/content/aligned/',\n",
        "                                                     x_col='filepath',\n",
        "                                                     y_col='gender',\n",
        "                                                     target_size=(IMG_HEIGHT,IMG_WIDTH),\n",
        "                                                     class_mode='categorical',\n",
        "                                                     batch_size=BATCH_SIZE,\n",
        "                                                     shuffle=True,\n",
        "                                                     seed=SEED)"
      ],
      "execution_count": null,
      "outputs": [
        {
          "output_type": "stream",
          "text": [
            "Found 13092 validated image filenames belonging to 2 classes.\n"
          ],
          "name": "stdout"
        }
      ]
    },
    {
      "cell_type": "code",
      "metadata": {
        "colab": {
          "base_uri": "https://localhost:8080/"
        },
        "id": "_oJtMHOTfvzO",
        "outputId": "b43901c6-1d0f-4a6d-f19b-4995d7ac5647"
      },
      "source": [
        "# Initialise InceptionV3 model, with pretrained ImageNet weights\n",
        "# Add additional dense layer to fully connected segment to test\n",
        "\n",
        "base_model = tf.keras.applications.InceptionV3(include_top=False,\n",
        "                                               weights='imagenet',\n",
        "                                               input_shape=(IMG_HEIGHT, IMG_WIDTH, 3),\n",
        "                                               pooling='avg')\n",
        "model = tf.keras.models.Sequential(base_model)\n",
        "model.add(tf.keras.layers.Dense(1024, activation='relu'))\n",
        "model.add(tf.keras.layers.Dense(2))\n",
        "\n",
        "model.compile(optimizer='sgd',\n",
        "              loss=tf.keras.losses.CategoricalCrossentropy(from_logits=True),\n",
        "              metrics=['accuracy'])"
      ],
      "execution_count": null,
      "outputs": [
        {
          "output_type": "stream",
          "text": [
            "Downloading data from https://storage.googleapis.com/tensorflow/keras-applications/inception_v3/inception_v3_weights_tf_dim_ordering_tf_kernels_notop.h5\n",
            "87916544/87910968 [==============================] - 2s 0us/step\n"
          ],
          "name": "stdout"
        }
      ]
    },
    {
      "cell_type": "code",
      "metadata": {
        "colab": {
          "base_uri": "https://localhost:8080/"
        },
        "id": "uIASDsIDfvzP",
        "outputId": "7dda8c72-e9b8-4813-ce4e-27aca0a86261"
      },
      "source": [
        "history = model.fit(train_data_gen,\n",
        "                    epochs=30,\n",
        "                    initial_epoch=0,\n",
        "                    validation_data=test_data_gen,\n",
        "                    callbacks=[early_stop, checkpoint, log, time_callback],\n",
        "                    verbose=1)"
      ],
      "execution_count": null,
      "outputs": [
        {
          "output_type": "stream",
          "text": [
            "Epoch 1/30\n",
            "410/410 [==============================] - ETA: 0s - loss: 0.3332 - accuracy: 0.8464WARNING:tensorflow:From /usr/local/lib/python3.6/dist-packages/tensorflow/python/training/tracking/tracking.py:111: Model.state_updates (from tensorflow.python.keras.engine.training) is deprecated and will be removed in a future version.\n",
            "Instructions for updating:\n",
            "This property should not be used in TensorFlow 2.0, as updates are applied automatically.\n",
            "WARNING:tensorflow:From /usr/local/lib/python3.6/dist-packages/tensorflow/python/training/tracking/tracking.py:111: Layer.updates (from tensorflow.python.keras.engine.base_layer) is deprecated and will be removed in a future version.\n",
            "Instructions for updating:\n",
            "This property should not be used in TensorFlow 2.0, as updates are applied automatically.\n",
            "INFO:tensorflow:Assets written to: /content/models/01/assets\n",
            "410/410 [==============================] - 253s 617ms/step - loss: 0.3332 - accuracy: 0.8464 - val_loss: 0.1880 - val_accuracy: 0.9236\n",
            "Epoch 2/30\n",
            "410/410 [==============================] - ETA: 0s - loss: 0.1256 - accuracy: 0.9527INFO:tensorflow:Assets written to: /content/models/02/assets\n",
            "410/410 [==============================] - 247s 601ms/step - loss: 0.1256 - accuracy: 0.9527 - val_loss: 0.1623 - val_accuracy: 0.9380\n",
            "Epoch 3/30\n",
            "410/410 [==============================] - ETA: 0s - loss: 0.0452 - accuracy: 0.9859INFO:tensorflow:Assets written to: /content/models/03/assets\n",
            "410/410 [==============================] - 245s 596ms/step - loss: 0.0452 - accuracy: 0.9859 - val_loss: 0.1481 - val_accuracy: 0.9490\n",
            "Epoch 4/30\n",
            "410/410 [==============================] - ETA: 0s - loss: 0.0230 - accuracy: 0.9923INFO:tensorflow:Assets written to: /content/models/04/assets\n",
            "410/410 [==============================] - 241s 588ms/step - loss: 0.0230 - accuracy: 0.9923 - val_loss: 0.1728 - val_accuracy: 0.9465\n",
            "Epoch 5/30\n",
            "410/410 [==============================] - ETA: 0s - loss: 0.0165 - accuracy: 0.9953INFO:tensorflow:Assets written to: /content/models/05/assets\n",
            "410/410 [==============================] - 244s 595ms/step - loss: 0.0165 - accuracy: 0.9953 - val_loss: 0.2035 - val_accuracy: 0.9420\n",
            "Epoch 6/30\n",
            "410/410 [==============================] - ETA: 0s - loss: 0.0160 - accuracy: 0.9950INFO:tensorflow:Assets written to: /content/models/06/assets\n",
            "410/410 [==============================] - 246s 600ms/step - loss: 0.0160 - accuracy: 0.9950 - val_loss: 0.2356 - val_accuracy: 0.9316\n",
            "Epoch 7/30\n",
            "410/410 [==============================] - ETA: 0s - loss: 0.0210 - accuracy: 0.9936INFO:tensorflow:Assets written to: /content/models/07/assets\n",
            "410/410 [==============================] - 245s 597ms/step - loss: 0.0210 - accuracy: 0.9936 - val_loss: 0.1934 - val_accuracy: 0.9417\n",
            "Epoch 8/30\n",
            "410/410 [==============================] - ETA: 0s - loss: 0.0312 - accuracy: 0.9893INFO:tensorflow:Assets written to: /content/models/08/assets\n",
            "410/410 [==============================] - 246s 600ms/step - loss: 0.0312 - accuracy: 0.9893 - val_loss: 0.1951 - val_accuracy: 0.9456\n"
          ],
          "name": "stdout"
        }
      ]
    },
    {
      "cell_type": "code",
      "metadata": {
        "colab": {
          "base_uri": "https://localhost:8080/",
          "height": 280
        },
        "id": "793Z5nNxxX0B",
        "outputId": "6d97d3b5-f9ed-4182-c12f-62f13c71b0cf"
      },
      "source": [
        "# Plot train and test accuracies per epoch\n",
        "\n",
        "plt.plot(history.history['accuracy'], label='accuracy')\n",
        "plt.plot(history.history['val_accuracy'], label='val_accuracy')\n",
        "plt.xlabel('Epoch')\n",
        "plt.ylabel('Accuracy')\n",
        "plt.legend(loc='lower right')\n",
        "plt.show()"
      ],
      "execution_count": null,
      "outputs": [
        {
          "output_type": "display_data",
          "data": {
            "image/png": "[encoded data removed]",
            "text/plain": [
              "<Figure size 432x288 with 1 Axes>"
            ]
          },
          "metadata": {
            "tags": []
          }
        }
      ]
    },
    {
      "cell_type": "code",
      "metadata": {
        "colab": {
          "base_uri": "https://localhost:8080/",
          "height": 279
        },
        "id": "MrIOerrSxX0B",
        "outputId": "026c670a-60e2-4a2d-bf55-a1158d78f6de"
      },
      "source": [
        "# Plot confusion matrix for model\n",
        "\n",
        "from sklearn.metrics import confusion_matrix\n",
        "import seaborn as sb\n",
        " \n",
        "model.add(tf.keras.layers.Softmax())\n",
        "predict = model.predict(test_data_gen)\n",
        "model.pop()\n",
        " \n",
        "predict = np.argmax(predict, axis=1)\n",
        " \n",
        "cm = confusion_matrix(test_data_gen.classes, predict)\n",
        "sb.heatmap(cm, annot=True, fmt='d', cmap='Blues')\n",
        "plt.ylabel('True label')\n",
        "plt.xlabel('Predicted label')\n",
        "plt.show()"
      ],
      "execution_count": null,
      "outputs": [
        {
          "output_type": "display_data",
          "data": {
            "image/png": "[encoded data removed]",
            "text/plain": [
              "<Figure size 432x288 with 2 Axes>"
            ]
          },
          "metadata": {
            "tags": []
          }
        }
      ]
    },
    {
      "cell_type": "code",
      "metadata": {
        "colab": {
          "base_uri": "https://localhost:8080/",
          "height": 79
        },
        "id": "Z8HMiGvSxX0C",
        "outputId": "28802d1e-d0f2-449c-bf86-d8b14144ea6b"
      },
      "source": [
        "# Time taken to train model\n",
        "\n",
        "pd.DataFrame([[sum(time_callback.times[1:])/len(time_callback.times[1:]),sum(time_callback.times)]],\n",
        "             ['Deep'],\n",
        "             ['Avg per Epoch', 'Total training time'])"
      ],
      "execution_count": null,
      "outputs": [
        {
          "output_type": "execute_result",
          "data": {
            "text/html": [
              "<div>\n",
              "<style scoped>\n",
              "    .dataframe tbody tr th:only-of-type {\n",
              "        vertical-align: middle;\n",
              "    }\n",
              "\n",
              "    .dataframe tbody tr th {\n",
              "        vertical-align: top;\n",
              "    }\n",
              "\n",
              "    .dataframe thead th {\n",
              "        text-align: right;\n",
              "    }\n",
              "</style>\n",
              "<table border=\"1\" class=\"dataframe\">\n",
              "  <thead>\n",
              "    <tr style=\"text-align: right;\">\n",
              "      <th></th>\n",
              "      <th>Avg per Epoch</th>\n",
              "      <th>Total training time</th>\n",
              "    </tr>\n",
              "  </thead>\n",
              "  <tbody>\n",
              "    <tr>\n",
              "      <th>Deep</th>\n",
              "      <td>245.265501</td>\n",
              "      <td>1982.109493</td>\n",
              "    </tr>\n",
              "  </tbody>\n",
              "</table>\n",
              "</div>"
            ],
            "text/plain": [
              "      Avg per Epoch  Total training time\n",
              "Deep     245.265501          1982.109493"
            ]
          },
          "metadata": {
            "tags": []
          },
          "execution_count": 18
        }
      ]
    },
    {
      "cell_type": "markdown",
      "metadata": {
        "id": "NoRpJtkN3nAY"
      },
      "source": [
        "## VGG16 vs TensorflowV3\n",
        "InceptionV3 is a deep CNN, with depth of 159, while VGG16 only has a depth of 23"
      ]
    },
    {
      "cell_type": "code",
      "metadata": {
        "colab": {
          "base_uri": "https://localhost:8080/"
        },
        "id": "5Ru1Q-CA3t4C",
        "outputId": "0b10b8ed-83e8-4dee-93cf-e15715d3b55f"
      },
      "source": [
        "# Initialise VGG16 model, with pretrained ImageNet weights\n",
        "\n",
        "base_model = tf.keras.applications.VGG16(include_top=False,\n",
        "                                         weights='imagenet',\n",
        "                                         input_shape=(IMG_HEIGHT, IMG_WIDTH, 3),\n",
        "                                         pooling='avg')\n",
        "model = tf.keras.models.Sequential(base_model)\n",
        "model.add(tf.keras.layers.Dense(2))\n",
        "\n",
        "model.compile(optimizer='sgd',\n",
        "              loss=tf.keras.losses.CategoricalCrossentropy(from_logits=True),\n",
        "              metrics=['accuracy'])"
      ],
      "execution_count": null,
      "outputs": [
        {
          "output_type": "stream",
          "text": [
            "Downloading data from https://storage.googleapis.com/tensorflow/keras-applications/vgg16/vgg16_weights_tf_dim_ordering_tf_kernels_notop.h5\n",
            "58892288/58889256 [==============================] - 0s 0us/step\n"
          ],
          "name": "stdout"
        }
      ]
    },
    {
      "cell_type": "code",
      "metadata": {
        "colab": {
          "base_uri": "https://localhost:8080/"
        },
        "id": "koDuY56_3t4D",
        "outputId": "3f0caa92-b53e-4497-f787-5883d61a6b24"
      },
      "source": [
        "# Fit model to train data\n",
        "\n",
        "history = model.fit(train_data_gen,\n",
        "                    epochs=20,\n",
        "                    initial_epoch=0,\n",
        "                    validation_data=test_data_gen,\n",
        "                    callbacks=[early_stop, checkpoint, log, time_callback],\n",
        "                    verbose=1)\n",
        "histories['benchmark'] = (history, time_callback.times)"
      ],
      "execution_count": null,
      "outputs": [
        {
          "output_type": "stream",
          "text": [
            "Epoch 1/20\n",
            "  2/410 [..............................] - ETA: 2:36 - loss: 0.8455 - accuracy: 0.4688WARNING:tensorflow:Callbacks method `on_train_batch_end` is slow compared to the batch time (batch time: 0.2429s vs `on_train_batch_end` time: 0.5250s). Check your callbacks.\n",
            "410/410 [==============================] - ETA: 0s - loss: 0.5812 - accuracy: 0.6802WARNING:tensorflow:From /usr/local/lib/python3.6/dist-packages/tensorflow/python/training/tracking/tracking.py:111: Model.state_updates (from tensorflow.python.keras.engine.training) is deprecated and will be removed in a future version.\n",
            "Instructions for updating:\n",
            "This property should not be used in TensorFlow 2.0, as updates are applied automatically.\n",
            "WARNING:tensorflow:From /usr/local/lib/python3.6/dist-packages/tensorflow/python/training/tracking/tracking.py:111: Layer.updates (from tensorflow.python.keras.engine.base_layer) is deprecated and will be removed in a future version.\n",
            "Instructions for updating:\n",
            "This property should not be used in TensorFlow 2.0, as updates are applied automatically.\n",
            "INFO:tensorflow:Assets written to: /content/models/01/assets\n",
            "410/410 [==============================] - 372s 907ms/step - loss: 0.5812 - accuracy: 0.6802 - val_loss: 0.5350 - val_accuracy: 0.6955\n",
            "Epoch 2/20\n",
            "410/410 [==============================] - ETA: 0s - loss: 0.4402 - accuracy: 0.7881INFO:tensorflow:Assets written to: /content/models/02/assets\n",
            "410/410 [==============================] - 371s 904ms/step - loss: 0.4402 - accuracy: 0.7881 - val_loss: 0.3661 - val_accuracy: 0.8280\n",
            "Epoch 3/20\n",
            "410/410 [==============================] - ETA: 0s - loss: 0.3737 - accuracy: 0.8233INFO:tensorflow:Assets written to: /content/models/03/assets\n",
            "410/410 [==============================] - 373s 910ms/step - loss: 0.3737 - accuracy: 0.8233 - val_loss: 0.2320 - val_accuracy: 0.9053\n",
            "Epoch 4/20\n",
            "410/410 [==============================] - ETA: 0s - loss: 0.2664 - accuracy: 0.8853INFO:tensorflow:Assets written to: /content/models/04/assets\n",
            "410/410 [==============================] - 373s 911ms/step - loss: 0.2664 - accuracy: 0.8853 - val_loss: 0.2403 - val_accuracy: 0.8955\n",
            "Epoch 5/20\n",
            "410/410 [==============================] - ETA: 0s - loss: 0.2150 - accuracy: 0.9135INFO:tensorflow:Assets written to: /content/models/05/assets\n",
            "410/410 [==============================] - 374s 911ms/step - loss: 0.2150 - accuracy: 0.9135 - val_loss: 0.1963 - val_accuracy: 0.9236\n",
            "Epoch 6/20\n",
            "410/410 [==============================] - ETA: 0s - loss: 0.4418 - accuracy: 0.7485INFO:tensorflow:Assets written to: /content/models/06/assets\n",
            "410/410 [==============================] - 368s 898ms/step - loss: 0.4418 - accuracy: 0.7485 - val_loss: 0.6913 - val_accuracy: 0.5232\n",
            "Epoch 7/20\n",
            "410/410 [==============================] - ETA: 0s - loss: 0.6901 - accuracy: 0.5343INFO:tensorflow:Assets written to: /content/models/07/assets\n",
            "410/410 [==============================] - 362s 883ms/step - loss: 0.6901 - accuracy: 0.5343 - val_loss: 0.6854 - val_accuracy: 0.5443\n",
            "Epoch 8/20\n",
            "410/410 [==============================] - ETA: 0s - loss: 0.6859 - accuracy: 0.5532INFO:tensorflow:Assets written to: /content/models/08/assets\n",
            "410/410 [==============================] - 362s 882ms/step - loss: 0.6859 - accuracy: 0.5532 - val_loss: 0.6807 - val_accuracy: 0.5550\n",
            "Epoch 9/20\n",
            "410/410 [==============================] - ETA: 0s - loss: 0.6793 - accuracy: 0.5743INFO:tensorflow:Assets written to: /content/models/09/assets\n",
            "410/410 [==============================] - 362s 884ms/step - loss: 0.6793 - accuracy: 0.5743 - val_loss: 0.6666 - val_accuracy: 0.6158\n",
            "Epoch 10/20\n",
            "410/410 [==============================] - ETA: 0s - loss: 0.7222 - accuracy: 0.5818INFO:tensorflow:Assets written to: /content/models/10/assets\n",
            "410/410 [==============================] - 363s 885ms/step - loss: 0.7222 - accuracy: 0.5818 - val_loss: 0.6880 - val_accuracy: 0.5229\n"
          ],
          "name": "stdout"
        }
      ]
    },
    {
      "cell_type": "code",
      "metadata": {
        "id": "GwV3tEEENe43"
      },
      "source": [
        "# Load best model\n",
        "model = tf.keras.models.load_model('/content/models/05')"
      ],
      "execution_count": null,
      "outputs": []
    },
    {
      "cell_type": "code",
      "metadata": {
        "colab": {
          "base_uri": "https://localhost:8080/",
          "height": 279
        },
        "id": "TGjKfU7H3t4D",
        "outputId": "458fb16a-dea5-4836-9c3b-99c4cc743887"
      },
      "source": [
        "# Plot train and test accuracies per epoch\n",
        "\n",
        "plt.plot(history.history['accuracy'], label='accuracy')\n",
        "plt.plot(history.history['val_accuracy'], label='val_accuracy')\n",
        "plt.xlabel('Epoch')\n",
        "plt.ylabel('Accuracy')\n",
        "plt.legend(loc='lower right')\n",
        "plt.show()"
      ],
      "execution_count": null,
      "outputs": [
        {
          "output_type": "display_data",
          "data": {
            "image/png": "[encoded data removed]",
            "text/plain": [
              "<Figure size 432x288 with 1 Axes>"
            ]
          },
          "metadata": {
            "tags": [],
            "needs_background": "light"
          }
        }
      ]
    },
    {
      "cell_type": "code",
      "metadata": {
        "colab": {
          "base_uri": "https://localhost:8080/",
          "height": 279
        },
        "id": "r6yyRoIW3t4E",
        "outputId": "1fc40b1b-aa1c-48ce-c508-415baf6acf4d"
      },
      "source": [
        "# Plot confusion matrix for model\n",
        "\n",
        "from sklearn.metrics import confusion_matrix\n",
        "import seaborn as sb\n",
        "\n",
        "model.add(tf.keras.layers.Softmax())\n",
        "predict = model.predict(test_data_gen)\n",
        "model.pop()\n",
        "\n",
        "predict = np.argmax(predict, axis=1)\n",
        "\n",
        "cm = confusion_matrix(test_data_gen.classes, predict)\n",
        "sb.heatmap(cm, annot=True, fmt='d', cmap='Blues')\n",
        "plt.ylabel('True label')\n",
        "plt.xlabel('Predicted label')\n",
        "plt.show()"
      ],
      "execution_count": null,
      "outputs": [
        {
          "output_type": "display_data",
          "data": {
            "image/png": "[encoded data removed]",
            "text/plain": [
              "<Figure size 432x288 with 2 Axes>"
            ]
          },
          "metadata": {
            "tags": [],
            "needs_background": "light"
          }
        }
      ]
    },
    {
      "cell_type": "code",
      "metadata": {
        "colab": {
          "base_uri": "https://localhost:8080/",
          "height": 79
        },
        "id": "Je66_qAIPUuv",
        "outputId": "b1d6dbe4-65d2-4251-826c-cf50afd0d86a"
      },
      "source": [
        "pd.DataFrame([[sum(time_callback.times[1:])/len(time_callback.times[1:]),sum(time_callback.times)]],\n",
        "             ['No Pretrained Weights'],\n",
        "             ['Avg per Epoch', 'Total training time'])"
      ],
      "execution_count": null,
      "outputs": [
        {
          "output_type": "execute_result",
          "data": {
            "text/html": [
              "<div>\n",
              "<style scoped>\n",
              "    .dataframe tbody tr th:only-of-type {\n",
              "        vertical-align: middle;\n",
              "    }\n",
              "\n",
              "    .dataframe tbody tr th {\n",
              "        vertical-align: top;\n",
              "    }\n",
              "\n",
              "    .dataframe thead th {\n",
              "        text-align: right;\n",
              "    }\n",
              "</style>\n",
              "<table border=\"1\" class=\"dataframe\">\n",
              "  <thead>\n",
              "    <tr style=\"text-align: right;\">\n",
              "      <th></th>\n",
              "      <th>Avg per Epoch</th>\n",
              "      <th>Total training time</th>\n",
              "    </tr>\n",
              "  </thead>\n",
              "  <tbody>\n",
              "    <tr>\n",
              "      <th>No Pretrained Weights</th>\n",
              "      <td>368.650897</td>\n",
              "      <td>3702.636299</td>\n",
              "    </tr>\n",
              "  </tbody>\n",
              "</table>\n",
              "</div>"
            ],
            "text/plain": [
              "                       Avg per Epoch  Total training time\n",
              "No Pretrained Weights     368.650897          3702.636299"
            ]
          },
          "metadata": {
            "tags": []
          },
          "execution_count": 16
        }
      ]
    },
    {
      "cell_type": "markdown",
      "metadata": {
        "id": "H2_ayRel-loY"
      },
      "source": [
        "\n",
        "\n",
        "---\n",
        "\n",
        "# 2. Age and Gender simultaneously "
      ]
    },
    {
      "cell_type": "markdown",
      "metadata": {
        "id": "K0mPqX2XNS0J"
      },
      "source": [
        "## Without Data Augmentation"
      ]
    },
    {
      "cell_type": "code",
      "metadata": {
        "id": "NQdayk-q-0Jq",
        "colab": {
          "base_uri": "https://localhost:8080/"
        },
        "outputId": "0e9cb5a2-e731-4999-c3cb-9546d192a893"
      },
      "source": [
        "# Create generators for train and test sets for age\n",
        "\n",
        "image_generator = tf.keras.preprocessing.image.ImageDataGenerator(rescale=1./255)\n",
        "train_data_gen = image_generator.flow_from_dataframe(train_df,\n",
        "                                                     directory='/content/aligned/',\n",
        "                                                     x_col='filepath',\n",
        "                                                     y_col='age',\n",
        "                                                     target_size=(IMG_HEIGHT,IMG_WIDTH),\n",
        "                                                     class_mode='categorical',\n",
        "                                                     batch_size=BATCH_SIZE,\n",
        "                                                     shuffle=True,\n",
        "                                                     seed=SEED)\n",
        "\n",
        "test_data_gen = image_generator.flow_from_dataframe(test_df,\n",
        "                                                    directory='/content/aligned/',\n",
        "                                                    x_col='filepath',\n",
        "                                                    y_col='age',\n",
        "                                                    target_size=(IMG_HEIGHT,IMG_WIDTH),\n",
        "                                                    class_mode='categorical',\n",
        "                                                    batch_size=BATCH_SIZE,\n",
        "                                                    shuffle=False,\n",
        "                                                    seed=SEED)"
      ],
      "execution_count": null,
      "outputs": [
        {
          "output_type": "stream",
          "text": [
            "Found 13092 validated image filenames belonging to 8 classes.\n",
            "Found 3274 validated image filenames belonging to 8 classes.\n"
          ],
          "name": "stdout"
        }
      ]
    },
    {
      "cell_type": "code",
      "metadata": {
        "id": "TmpaSePm-8rU"
      },
      "source": [
        "# Initialise InceptionV3 model, with pretrained ImageNet weights\n",
        "\n",
        "age_model = tf.keras.applications.InceptionV3(include_top=False,\n",
        "                                               weights='imagenet',\n",
        "                                               input_shape=(IMG_HEIGHT, IMG_WIDTH, 3),\n",
        "                                               pooling='avg')\n",
        "model = tf.keras.models.Sequential(age_model)\n",
        "model.add(tf.keras.layers.Dense(8))\n",
        "\n",
        "model.compile(optimizer='sgd',\n",
        "              loss=tf.keras.losses.CategoricalCrossentropy(from_logits=True),\n",
        "              metrics=['accuracy'])"
      ],
      "execution_count": null,
      "outputs": []
    },
    {
      "cell_type": "code",
      "metadata": {
        "id": "nGv31LrY-8rX",
        "colab": {
          "base_uri": "https://localhost:8080/"
        },
        "outputId": "1db12ea0-66bc-422c-a2ff-0da2ecd3509e"
      },
      "source": [
        "# Fit model to train data\n",
        "\n",
        "history = model.fit(train_data_gen,\n",
        "                    epochs=20,\n",
        "                    initial_epoch=0,\n",
        "                    validation_data=test_data_gen,\n",
        "                    callbacks=[early_stop, checkpoint, log, time_callback],\n",
        "                    verbose=1)"
      ],
      "execution_count": null,
      "outputs": [
        {
          "output_type": "stream",
          "text": [
            "Epoch 1/20\n",
            "410/410 [==============================] - ETA: 0s - loss: 1.2114 - accuracy: 0.5386INFO:tensorflow:Assets written to: /content/models/01/assets\n",
            "410/410 [==============================] - 288s 702ms/step - loss: 1.2114 - accuracy: 0.5386 - val_loss: 0.8862 - val_accuracy: 0.6530\n",
            "Epoch 2/20\n",
            "410/410 [==============================] - ETA: 0s - loss: 0.6339 - accuracy: 0.7702INFO:tensorflow:Assets written to: /content/models/02/assets\n",
            "410/410 [==============================] - 286s 698ms/step - loss: 0.6339 - accuracy: 0.7702 - val_loss: 0.8211 - val_accuracy: 0.6979\n",
            "Epoch 3/20\n",
            "410/410 [==============================] - ETA: 0s - loss: 0.3312 - accuracy: 0.8902INFO:tensorflow:Assets written to: /content/models/03/assets\n",
            "410/410 [==============================] - 290s 708ms/step - loss: 0.3312 - accuracy: 0.8902 - val_loss: 0.7033 - val_accuracy: 0.7474\n",
            "Epoch 4/20\n",
            "410/410 [==============================] - ETA: 0s - loss: 0.1779 - accuracy: 0.9461INFO:tensorflow:Assets written to: /content/models/04/assets\n",
            "410/410 [==============================] - 290s 707ms/step - loss: 0.1779 - accuracy: 0.9461 - val_loss: 0.8253 - val_accuracy: 0.7321\n",
            "Epoch 5/20\n",
            "410/410 [==============================] - ETA: 0s - loss: 0.0875 - accuracy: 0.9766INFO:tensorflow:Assets written to: /content/models/05/assets\n",
            "410/410 [==============================] - 287s 701ms/step - loss: 0.0875 - accuracy: 0.9766 - val_loss: 0.6990 - val_accuracy: 0.7813\n",
            "Epoch 6/20\n",
            "410/410 [==============================] - ETA: 0s - loss: 0.0571 - accuracy: 0.9854INFO:tensorflow:Assets written to: /content/models/06/assets\n",
            "410/410 [==============================] - 288s 703ms/step - loss: 0.0571 - accuracy: 0.9854 - val_loss: 0.7332 - val_accuracy: 0.7841\n",
            "Epoch 7/20\n",
            "410/410 [==============================] - ETA: 0s - loss: 0.0382 - accuracy: 0.9903INFO:tensorflow:Assets written to: /content/models/07/assets\n",
            "410/410 [==============================] - 287s 701ms/step - loss: 0.0382 - accuracy: 0.9903 - val_loss: 0.7411 - val_accuracy: 0.7947\n",
            "Epoch 8/20\n",
            "410/410 [==============================] - ETA: 0s - loss: 0.0471 - accuracy: 0.9862INFO:tensorflow:Assets written to: /content/models/08/assets\n",
            "410/410 [==============================] - 286s 698ms/step - loss: 0.0471 - accuracy: 0.9862 - val_loss: 0.7510 - val_accuracy: 0.7822\n",
            "Epoch 9/20\n",
            "410/410 [==============================] - ETA: 0s - loss: 0.0404 - accuracy: 0.9895INFO:tensorflow:Assets written to: /content/models/09/assets\n",
            "410/410 [==============================] - 293s 714ms/step - loss: 0.0404 - accuracy: 0.9895 - val_loss: 0.7064 - val_accuracy: 0.8109\n",
            "Epoch 10/20\n",
            "410/410 [==============================] - ETA: 0s - loss: 0.0310 - accuracy: 0.9924INFO:tensorflow:Assets written to: /content/models/10/assets\n",
            "410/410 [==============================] - 290s 707ms/step - loss: 0.0310 - accuracy: 0.9924 - val_loss: 0.8233 - val_accuracy: 0.7908\n",
            "Epoch 11/20\n",
            "410/410 [==============================] - ETA: 0s - loss: 0.0367 - accuracy: 0.9900INFO:tensorflow:Assets written to: /content/models/11/assets\n",
            "410/410 [==============================] - 285s 694ms/step - loss: 0.0367 - accuracy: 0.9900 - val_loss: 0.8921 - val_accuracy: 0.7697\n",
            "Epoch 12/20\n",
            "410/410 [==============================] - ETA: 0s - loss: 0.0529 - accuracy: 0.9836INFO:tensorflow:Assets written to: /content/models/12/assets\n",
            "410/410 [==============================] - 280s 682ms/step - loss: 0.0529 - accuracy: 0.9836 - val_loss: 0.8953 - val_accuracy: 0.7685\n",
            "Epoch 13/20\n",
            "410/410 [==============================] - ETA: 0s - loss: 0.0268 - accuracy: 0.9921INFO:tensorflow:Assets written to: /content/models/13/assets\n",
            "410/410 [==============================] - 281s 685ms/step - loss: 0.0268 - accuracy: 0.9921 - val_loss: 0.8197 - val_accuracy: 0.7896\n",
            "Epoch 14/20\n",
            "410/410 [==============================] - ETA: 0s - loss: 0.0198 - accuracy: 0.9943INFO:tensorflow:Assets written to: /content/models/14/assets\n",
            "410/410 [==============================] - 280s 683ms/step - loss: 0.0198 - accuracy: 0.9943 - val_loss: 1.0550 - val_accuracy: 0.7318\n"
          ],
          "name": "stdout"
        }
      ]
    },
    {
      "cell_type": "code",
      "metadata": {
        "id": "mNk1I6UT_H7-",
        "colab": {
          "base_uri": "https://localhost:8080/"
        },
        "outputId": "ed09060a-2d7b-4a9d-b0c6-bb296cfb062a"
      },
      "source": [
        "# Create generators for train and test sets for gender\n",
        "\n",
        "image_generator = tf.keras.preprocessing.image.ImageDataGenerator(rescale=1./255)\n",
        "train_data_gen = image_generator.flow_from_dataframe(train_df,\n",
        "                                                     directory='/content/aligned/',\n",
        "                                                     x_col='filepath',\n",
        "                                                     y_col='gender',\n",
        "                                                     target_size=(IMG_HEIGHT,IMG_WIDTH),\n",
        "                                                     class_mode='categorical',\n",
        "                                                     batch_size=BATCH_SIZE,\n",
        "                                                     shuffle=True,\n",
        "                                                     seed=SEED)\n",
        "\n",
        "test_data_gen = image_generator.flow_from_dataframe(test_df,\n",
        "                                                    directory='/content/aligned/',\n",
        "                                                    x_col='filepath',\n",
        "                                                    y_col='gender',\n",
        "                                                    target_size=(IMG_HEIGHT,IMG_WIDTH),\n",
        "                                                    class_mode='categorical',\n",
        "                                                    batch_size=BATCH_SIZE,\n",
        "                                                    shuffle=False,\n",
        "                                                    seed=SEED)"
      ],
      "execution_count": null,
      "outputs": [
        {
          "output_type": "stream",
          "text": [
            "Found 13092 validated image filenames belonging to 2 classes.\n",
            "Found 3274 validated image filenames belonging to 2 classes.\n"
          ],
          "name": "stdout"
        }
      ]
    },
    {
      "cell_type": "code",
      "metadata": {
        "id": "XjgOV-b-_L03"
      },
      "source": [
        "# Initialise InceptionV3 model, with pretrained ImageNet weights\n",
        "\n",
        "gender_model = tf.keras.applications.InceptionV3(include_top=False,\n",
        "                                               weights='imagenet',\n",
        "                                               input_shape=(IMG_HEIGHT, IMG_WIDTH, 3),\n",
        "                                               pooling='avg')\n",
        "model = tf.keras.models.Sequential(gender_model)\n",
        "model.add(tf.keras.layers.Dense(2))\n",
        "\n",
        "model.compile(optimizer='sgd',\n",
        "              loss=tf.keras.losses.CategoricalCrossentropy(from_logits=True),\n",
        "              metrics=['accuracy'])"
      ],
      "execution_count": null,
      "outputs": []
    },
    {
      "cell_type": "code",
      "metadata": {
        "id": "LpDUUD9d_L04",
        "colab": {
          "base_uri": "https://localhost:8080/"
        },
        "outputId": "9df318d5-6dd2-490e-caf1-e5585106d2d7"
      },
      "source": [
        "# Fit model to train data\n",
        "\n",
        "history = model.fit(train_data_gen,\n",
        "                    epochs=20,\n",
        "                    initial_epoch=0,\n",
        "                    validation_data=test_data_gen,\n",
        "                    callbacks=[early_stop, checkpoint, log, time_callback],\n",
        "                    verbose=1)"
      ],
      "execution_count": null,
      "outputs": [
        {
          "output_type": "stream",
          "text": [
            "Epoch 1/20\n",
            "410/410 [==============================] - ETA: 0s - loss: 0.3268 - accuracy: 0.8495INFO:tensorflow:Assets written to: /content/models/01/assets\n",
            "410/410 [==============================] - 278s 678ms/step - loss: 0.3268 - accuracy: 0.8495 - val_loss: 0.2091 - val_accuracy: 0.9142\n",
            "Epoch 2/20\n",
            "410/410 [==============================] - ETA: 0s - loss: 0.1158 - accuracy: 0.9607INFO:tensorflow:Assets written to: /content/models/02/assets\n",
            "410/410 [==============================] - 274s 667ms/step - loss: 0.1158 - accuracy: 0.9607 - val_loss: 0.1880 - val_accuracy: 0.9246\n",
            "Epoch 3/20\n",
            "410/410 [==============================] - ETA: 0s - loss: 0.0447 - accuracy: 0.9874INFO:tensorflow:Assets written to: /content/models/03/assets\n",
            "410/410 [==============================] - 275s 671ms/step - loss: 0.0447 - accuracy: 0.9874 - val_loss: 0.1534 - val_accuracy: 0.9496\n",
            "Epoch 4/20\n",
            "410/410 [==============================] - ETA: 0s - loss: 0.0227 - accuracy: 0.9944INFO:tensorflow:Assets written to: /content/models/04/assets\n",
            "410/410 [==============================] - 275s 671ms/step - loss: 0.0227 - accuracy: 0.9944 - val_loss: 0.1641 - val_accuracy: 0.9481\n",
            "Epoch 5/20\n",
            "410/410 [==============================] - ETA: 0s - loss: 0.0166 - accuracy: 0.9953INFO:tensorflow:Assets written to: /content/models/05/assets\n",
            "410/410 [==============================] - 277s 675ms/step - loss: 0.0166 - accuracy: 0.9953 - val_loss: 0.1897 - val_accuracy: 0.9407\n",
            "Epoch 6/20\n",
            "410/410 [==============================] - ETA: 0s - loss: 0.0115 - accuracy: 0.9969INFO:tensorflow:Assets written to: /content/models/06/assets\n",
            "410/410 [==============================] - 272s 663ms/step - loss: 0.0115 - accuracy: 0.9969 - val_loss: 0.2003 - val_accuracy: 0.9420\n",
            "Epoch 7/20\n",
            "410/410 [==============================] - ETA: 0s - loss: 0.0171 - accuracy: 0.9940INFO:tensorflow:Assets written to: /content/models/07/assets\n",
            "410/410 [==============================] - 272s 665ms/step - loss: 0.0171 - accuracy: 0.9940 - val_loss: 0.1727 - val_accuracy: 0.9520\n",
            "Epoch 8/20\n",
            "410/410 [==============================] - ETA: 0s - loss: 0.0143 - accuracy: 0.9955INFO:tensorflow:Assets written to: /content/models/08/assets\n",
            "410/410 [==============================] - 273s 665ms/step - loss: 0.0143 - accuracy: 0.9955 - val_loss: 0.1747 - val_accuracy: 0.9465\n",
            "Epoch 9/20\n",
            "410/410 [==============================] - ETA: 0s - loss: 0.0106 - accuracy: 0.9969INFO:tensorflow:Assets written to: /content/models/09/assets\n",
            "410/410 [==============================] - 271s 661ms/step - loss: 0.0106 - accuracy: 0.9969 - val_loss: 0.1926 - val_accuracy: 0.9487\n",
            "Epoch 10/20\n",
            "410/410 [==============================] - ETA: 0s - loss: 0.0097 - accuracy: 0.9967INFO:tensorflow:Assets written to: /content/models/10/assets\n",
            "410/410 [==============================] - 271s 661ms/step - loss: 0.0097 - accuracy: 0.9967 - val_loss: 0.1830 - val_accuracy: 0.9508\n",
            "Epoch 11/20\n",
            "410/410 [==============================] - ETA: 0s - loss: 0.0088 - accuracy: 0.9969INFO:tensorflow:Assets written to: /content/models/11/assets\n",
            "410/410 [==============================] - 273s 666ms/step - loss: 0.0088 - accuracy: 0.9969 - val_loss: 0.1918 - val_accuracy: 0.9496\n",
            "Epoch 12/20\n",
            "410/410 [==============================] - ETA: 0s - loss: 0.0150 - accuracy: 0.9947INFO:tensorflow:Assets written to: /content/models/12/assets\n",
            "410/410 [==============================] - 272s 664ms/step - loss: 0.0150 - accuracy: 0.9947 - val_loss: 0.2043 - val_accuracy: 0.9386\n"
          ],
          "name": "stdout"
        }
      ]
    },
    {
      "cell_type": "code",
      "metadata": {
        "id": "yN0LqiAp_aaL"
      },
      "source": [
        "# Simultaneously find age and gender features, then predict gender from both features\n",
        "age_model._name = 'inception_v3_age'\n",
        "gender_model._name = 'inception_v3_gender'\n",
        "\n",
        "age_model.trainable = False\n",
        "gender_model.trainable = False\n",
        "\n",
        "input = tf.keras.Input(shape=(299, 299, 3))\n",
        "age_model = age_model(input)\n",
        "gender_model = gender_model(input)\n",
        "age_model = tf.keras.Model(inputs=input, outputs=age_model)\n",
        "gender_model = tf.keras.Model(inputs=input, outputs=gender_model)\n",
        "model = tf.keras.layers.concatenate([age_model.output, gender_model.output])\n",
        "model = tf.keras.layers.Dense(2)(model)\n",
        "model = tf.keras.Model(inputs=input, outputs=model)\n",
        "\n",
        "model.compile(optimizer='sgd',\n",
        "              loss=tf.keras.losses.CategoricalCrossentropy(from_logits=True),\n",
        "              metrics=['accuracy'])"
      ],
      "execution_count": null,
      "outputs": []
    },
    {
      "cell_type": "code",
      "metadata": {
        "colab": {
          "base_uri": "https://localhost:8080/"
        },
        "id": "W_Gn3jFQ2wyv",
        "outputId": "edd00d61-7117-4f85-fa86-f4e108d55b21"
      },
      "source": [
        "model.summary()"
      ],
      "execution_count": null,
      "outputs": [
        {
          "output_type": "stream",
          "text": [
            "Model: \"functional_10\"\n",
            "__________________________________________________________________________________________________\n",
            "Layer (type)                    Output Shape         Param #     Connected to                     \n",
            "==================================================================================================\n",
            "input_6 (InputLayer)            [(None, 299, 299, 3) 0                                            \n",
            "__________________________________________________________________________________________________\n",
            "inception_v3_age (Functional)   (None, 2048)         21802784    input_6[0][0]                    \n",
            "__________________________________________________________________________________________________\n",
            "inception_v3_gender (Functional (None, 2048)         21802784    input_6[0][0]                    \n",
            "__________________________________________________________________________________________________\n",
            "concatenate_7 (Concatenate)     (None, 4096)         0           inception_v3_age[1][0]           \n",
            "                                                                 inception_v3_gender[1][0]        \n",
            "__________________________________________________________________________________________________\n",
            "dense_4 (Dense)                 (None, 2)            8194        concatenate_7[0][0]              \n",
            "==================================================================================================\n",
            "Total params: 43,613,762\n",
            "Trainable params: 8,194\n",
            "Non-trainable params: 43,605,568\n",
            "__________________________________________________________________________________________________\n"
          ],
          "name": "stdout"
        }
      ]
    },
    {
      "cell_type": "code",
      "metadata": {
        "id": "E8aJkqQ5sZNk",
        "colab": {
          "base_uri": "https://localhost:8080/"
        },
        "outputId": "120ed0a7-1e6f-4880-f584-e5d19f65ddbc"
      },
      "source": [
        "# Fit model to train data\n",
        "\n",
        "history = model.fit(train_data_gen,\n",
        "                    epochs=20,\n",
        "                    initial_epoch=0,\n",
        "                    validation_data=test_data_gen,\n",
        "                    callbacks=[early_stop, checkpoint, log, time_callback],\n",
        "                    verbose=1)"
      ],
      "execution_count": null,
      "outputs": [
        {
          "output_type": "stream",
          "text": [
            "Epoch 1/20\n",
            "410/410 [==============================] - ETA: 0s - loss: 0.0353 - accuracy: 0.9966INFO:tensorflow:Assets written to: /content/models/01/assets\n",
            "410/410 [==============================] - 300s 732ms/step - loss: 0.0353 - accuracy: 0.9966 - val_loss: 0.1384 - val_accuracy: 0.9505\n",
            "Epoch 2/20\n",
            "410/410 [==============================] - ETA: 0s - loss: 0.0073 - accuracy: 0.9998INFO:tensorflow:Assets written to: /content/models/02/assets\n",
            "410/410 [==============================] - 290s 708ms/step - loss: 0.0073 - accuracy: 0.9998 - val_loss: 0.1432 - val_accuracy: 0.9499\n",
            "Epoch 3/20\n",
            "410/410 [==============================] - ETA: 0s - loss: 0.0048 - accuracy: 0.9998INFO:tensorflow:Assets written to: /content/models/03/assets\n",
            "410/410 [==============================] - 288s 704ms/step - loss: 0.0048 - accuracy: 0.9998 - val_loss: 0.1451 - val_accuracy: 0.9524\n",
            "Epoch 4/20\n",
            "410/410 [==============================] - ETA: 0s - loss: 0.0038 - accuracy: 0.9998INFO:tensorflow:Assets written to: /content/models/04/assets\n",
            "410/410 [==============================] - 293s 714ms/step - loss: 0.0038 - accuracy: 0.9998 - val_loss: 0.1490 - val_accuracy: 0.9520\n",
            "Epoch 5/20\n",
            "410/410 [==============================] - ETA: 0s - loss: 0.0031 - accuracy: 0.9998INFO:tensorflow:Assets written to: /content/models/05/assets\n",
            "410/410 [==============================] - 294s 718ms/step - loss: 0.0031 - accuracy: 0.9998 - val_loss: 0.1518 - val_accuracy: 0.9517\n",
            "Epoch 6/20\n",
            "410/410 [==============================] - ETA: 0s - loss: 0.0027 - accuracy: 0.9998INFO:tensorflow:Assets written to: /content/models/06/assets\n",
            "410/410 [==============================] - 296s 722ms/step - loss: 0.0027 - accuracy: 0.9998 - val_loss: 0.1538 - val_accuracy: 0.9517\n",
            "Epoch 7/20\n",
            "410/410 [==============================] - ETA: 0s - loss: 0.0024 - accuracy: 0.9998INFO:tensorflow:Assets written to: /content/models/07/assets\n",
            "410/410 [==============================] - 295s 719ms/step - loss: 0.0024 - accuracy: 0.9998 - val_loss: 0.1567 - val_accuracy: 0.9517\n",
            "Epoch 8/20\n",
            "410/410 [==============================] - ETA: 0s - loss: 0.0022 - accuracy: 0.9998INFO:tensorflow:Assets written to: /content/models/08/assets\n",
            "410/410 [==============================] - 292s 713ms/step - loss: 0.0022 - accuracy: 0.9998 - val_loss: 0.1579 - val_accuracy: 0.9514\n"
          ],
          "name": "stdout"
        }
      ]
    },
    {
      "cell_type": "code",
      "metadata": {
        "colab": {
          "base_uri": "https://localhost:8080/",
          "height": 279
        },
        "id": "VPpWhDn7aQhk",
        "outputId": "2e76881c-6c72-47e9-aeb1-8c8b3f294afe"
      },
      "source": [
        "# Plot train and test accuracies per epoch\n",
        "\n",
        "plt.plot(history.history['accuracy'], label='accuracy')\n",
        "plt.plot(history.history['val_accuracy'], label='val_accuracy')\n",
        "plt.xlabel('Epoch')\n",
        "plt.ylabel('Accuracy')\n",
        "plt.legend(loc='lower right')\n",
        "plt.show()"
      ],
      "execution_count": null,
      "outputs": [
        {
          "output_type": "display_data",
          "data": {
            "image/png": "[encoded data removed]",
            "text/plain": [
              "<Figure size 432x288 with 1 Axes>"
            ]
          },
          "metadata": {
            "tags": [],
            "needs_background": "light"
          }
        }
      ]
    },
    {
      "cell_type": "markdown",
      "metadata": {
        "id": "1PSQh3Y-502J"
      },
      "source": [
        "## With Data Augmentation"
      ]
    },
    {
      "cell_type": "code",
      "metadata": {
        "colab": {
          "base_uri": "https://localhost:8080/"
        },
        "id": "0U3RkxL9502J",
        "outputId": "bf748674-9b43-4135-e1f1-ed9cf90d2843"
      },
      "source": [
        "# Create generators for train and test sets for age\n",
        "\n",
        "image_generator = tf.keras.preprocessing.image.ImageDataGenerator(rescale=1./255,\n",
        "                                                                  rotation_range=15,\n",
        "                                                                  width_shift_range=0.1,\n",
        "                                                                  height_shift_range=0.1,\n",
        "                                                                  brightness_range=[0.9,1.1],\n",
        "                                                                  zoom_range=[0.9,1.1],\n",
        "                                                                  horizontal_flip=True,\n",
        "                                                                  vertical_flip=False)\n",
        "train_data_gen = image_generator.flow_from_dataframe(train_df,\n",
        "                                                     directory='/content/aligned/',\n",
        "                                                     x_col='filepath',\n",
        "                                                     y_col='age',\n",
        "                                                     target_size=(IMG_HEIGHT,IMG_WIDTH),\n",
        "                                                     class_mode='categorical',\n",
        "                                                     batch_size=BATCH_SIZE,\n",
        "                                                     shuffle=True,\n",
        "                                                     seed=SEED)\n",
        "\n",
        "image_generator = tf.keras.preprocessing.image.ImageDataGenerator(rescale=1./255)\n",
        "test_data_gen = image_generator.flow_from_dataframe(test_df,\n",
        "                                                    directory='/content/aligned/',\n",
        "                                                    x_col='filepath',\n",
        "                                                    y_col='age',\n",
        "                                                    target_size=(IMG_HEIGHT,IMG_WIDTH),\n",
        "                                                    class_mode='categorical',\n",
        "                                                    batch_size=BATCH_SIZE,\n",
        "                                                    shuffle=False,\n",
        "                                                    seed=SEED)"
      ],
      "execution_count": null,
      "outputs": [
        {
          "output_type": "stream",
          "text": [
            "Found 13092 validated image filenames belonging to 8 classes.\n",
            "Found 3274 validated image filenames belonging to 8 classes.\n"
          ],
          "name": "stdout"
        }
      ]
    },
    {
      "cell_type": "code",
      "metadata": {
        "id": "v8-FEUta502K",
        "colab": {
          "base_uri": "https://localhost:8080/"
        },
        "outputId": "a84885ac-1a59-4fcc-c0d8-2535731fedbf"
      },
      "source": [
        "# Initialise InceptionV3 model, with pretrained ImageNet weights\n",
        "\n",
        "age_model = tf.keras.applications.InceptionV3(include_top=False,\n",
        "                                               weights='imagenet',\n",
        "                                               input_shape=(IMG_HEIGHT, IMG_WIDTH, 3),\n",
        "                                               pooling='avg')\n",
        "model = tf.keras.models.Sequential(age_model)\n",
        "model.add(tf.keras.layers.Dense(8))\n",
        "\n",
        "model.compile(optimizer='sgd',\n",
        "              loss=tf.keras.losses.CategoricalCrossentropy(from_logits=True),\n",
        "              metrics=['accuracy'])"
      ],
      "execution_count": null,
      "outputs": [
        {
          "output_type": "stream",
          "text": [
            "Downloading data from https://storage.googleapis.com/tensorflow/keras-applications/inception_v3/inception_v3_weights_tf_dim_ordering_tf_kernels_notop.h5\n",
            "87916544/87910968 [==============================] - 1s 0us/step\n"
          ],
          "name": "stdout"
        }
      ]
    },
    {
      "cell_type": "code",
      "metadata": {
        "colab": {
          "base_uri": "https://localhost:8080/"
        },
        "id": "H-B6zQVF502K",
        "outputId": "68799b26-59be-4674-b6cf-6e15e8bb1610"
      },
      "source": [
        "# Fit model to train data\n",
        "\n",
        "history = model.fit(train_data_gen,\n",
        "                    epochs=20,\n",
        "                    initial_epoch=0,\n",
        "                    validation_data=test_data_gen,\n",
        "                    callbacks=[early_stop, checkpoint, log, time_callback],\n",
        "                    verbose=1)"
      ],
      "execution_count": null,
      "outputs": [
        {
          "output_type": "stream",
          "text": [
            "Epoch 1/20\n",
            "  2/410 [..............................] - ETA: 1:30 - loss: 2.0483 - accuracy: 0.1094WARNING:tensorflow:Callbacks method `on_train_batch_end` is slow compared to the batch time (batch time: 0.1754s vs `on_train_batch_end` time: 0.2700s). Check your callbacks.\n",
            "410/410 [==============================] - ETA: 0s - loss: 1.2656 - accuracy: 0.5170INFO:tensorflow:Assets written to: /content/models/01/assets\n",
            "410/410 [==============================] - 536s 1s/step - loss: 1.2656 - accuracy: 0.5170 - val_loss: 0.9302 - val_accuracy: 0.6368\n",
            "Epoch 2/20\n",
            "410/410 [==============================] - ETA: 0s - loss: 0.8279 - accuracy: 0.6831INFO:tensorflow:Assets written to: /content/models/02/assets\n",
            "410/410 [==============================] - 540s 1s/step - loss: 0.8279 - accuracy: 0.6831 - val_loss: 0.8829 - val_accuracy: 0.6671\n",
            "Epoch 3/20\n",
            "410/410 [==============================] - ETA: 0s - loss: 0.6215 - accuracy: 0.7691INFO:tensorflow:Assets written to: /content/models/03/assets\n",
            "410/410 [==============================] - 542s 1s/step - loss: 0.6215 - accuracy: 0.7691 - val_loss: 0.8156 - val_accuracy: 0.6924\n",
            "Epoch 4/20\n",
            "410/410 [==============================] - ETA: 0s - loss: 0.4882 - accuracy: 0.8229INFO:tensorflow:Assets written to: /content/models/04/assets\n",
            "410/410 [==============================] - 545s 1s/step - loss: 0.4882 - accuracy: 0.8229 - val_loss: 0.5991 - val_accuracy: 0.7831\n",
            "Epoch 5/20\n",
            "410/410 [==============================] - ETA: 0s - loss: 0.3784 - accuracy: 0.8672INFO:tensorflow:Assets written to: /content/models/05/assets\n",
            "410/410 [==============================] - 535s 1s/step - loss: 0.3784 - accuracy: 0.8672 - val_loss: 0.6228 - val_accuracy: 0.7828\n",
            "Epoch 6/20\n",
            "410/410 [==============================] - ETA: 0s - loss: 0.3127 - accuracy: 0.8858INFO:tensorflow:Assets written to: /content/models/06/assets\n",
            "410/410 [==============================] - 527s 1s/step - loss: 0.3127 - accuracy: 0.8858 - val_loss: 0.5606 - val_accuracy: 0.8051\n",
            "Epoch 7/20\n",
            "410/410 [==============================] - ETA: 0s - loss: 0.2450 - accuracy: 0.9140INFO:tensorflow:Assets written to: /content/models/07/assets\n",
            "410/410 [==============================] - 527s 1s/step - loss: 0.2450 - accuracy: 0.9140 - val_loss: 0.6078 - val_accuracy: 0.7999\n",
            "Epoch 8/20\n",
            "410/410 [==============================] - ETA: 0s - loss: 0.1975 - accuracy: 0.9323INFO:tensorflow:Assets written to: /content/models/08/assets\n",
            "410/410 [==============================] - 523s 1s/step - loss: 0.1975 - accuracy: 0.9323 - val_loss: 0.5948 - val_accuracy: 0.8131\n",
            "Epoch 9/20\n",
            "410/410 [==============================] - ETA: 0s - loss: 0.1598 - accuracy: 0.9446INFO:tensorflow:Assets written to: /content/models/09/assets\n",
            "410/410 [==============================] - 520s 1s/step - loss: 0.1598 - accuracy: 0.9446 - val_loss: 0.5431 - val_accuracy: 0.8259\n",
            "Epoch 10/20\n",
            "410/410 [==============================] - ETA: 0s - loss: 0.1350 - accuracy: 0.9540INFO:tensorflow:Assets written to: /content/models/10/assets\n",
            "410/410 [==============================] - 521s 1s/step - loss: 0.1350 - accuracy: 0.9540 - val_loss: 0.6755 - val_accuracy: 0.8067\n",
            "Epoch 11/20\n",
            "410/410 [==============================] - ETA: 0s - loss: 0.1195 - accuracy: 0.9594INFO:tensorflow:Assets written to: /content/models/11/assets\n",
            "410/410 [==============================] - 530s 1s/step - loss: 0.1195 - accuracy: 0.9594 - val_loss: 0.7870 - val_accuracy: 0.7813\n",
            "Epoch 12/20\n",
            "410/410 [==============================] - ETA: 0s - loss: 0.1023 - accuracy: 0.9653INFO:tensorflow:Assets written to: /content/models/12/assets\n",
            "410/410 [==============================] - 526s 1s/step - loss: 0.1023 - accuracy: 0.9653 - val_loss: 0.7769 - val_accuracy: 0.7798\n",
            "Epoch 13/20\n",
            "410/410 [==============================] - ETA: 0s - loss: 0.0940 - accuracy: 0.9672INFO:tensorflow:Assets written to: /content/models/13/assets\n",
            "410/410 [==============================] - 528s 1s/step - loss: 0.0940 - accuracy: 0.9672 - val_loss: 0.6124 - val_accuracy: 0.8317\n",
            "Epoch 14/20\n",
            "410/410 [==============================] - ETA: 0s - loss: 0.0934 - accuracy: 0.9679INFO:tensorflow:Assets written to: /content/models/14/assets\n",
            "410/410 [==============================] - 537s 1s/step - loss: 0.0934 - accuracy: 0.9679 - val_loss: 0.5766 - val_accuracy: 0.8406\n",
            "Epoch 15/20\n",
            "410/410 [==============================] - ETA: 0s - loss: 0.0774 - accuracy: 0.9746INFO:tensorflow:Assets written to: /content/models/15/assets\n",
            "410/410 [==============================] - 531s 1s/step - loss: 0.0774 - accuracy: 0.9746 - val_loss: 0.5930 - val_accuracy: 0.8387\n",
            "Epoch 16/20\n",
            "410/410 [==============================] - ETA: 0s - loss: 0.0699 - accuracy: 0.9764INFO:tensorflow:Assets written to: /content/models/16/assets\n",
            "410/410 [==============================] - 536s 1s/step - loss: 0.0699 - accuracy: 0.9764 - val_loss: 0.5951 - val_accuracy: 0.8387\n",
            "Epoch 17/20\n",
            "410/410 [==============================] - ETA: 0s - loss: 0.0639 - accuracy: 0.9807INFO:tensorflow:Assets written to: /content/models/17/assets\n",
            "410/410 [==============================] - 533s 1s/step - loss: 0.0639 - accuracy: 0.9807 - val_loss: 0.6027 - val_accuracy: 0.8418\n",
            "Epoch 18/20\n",
            "410/410 [==============================] - ETA: 0s - loss: 0.0529 - accuracy: 0.9818INFO:tensorflow:Assets written to: /content/models/18/assets\n",
            "410/410 [==============================] - 531s 1s/step - loss: 0.0529 - accuracy: 0.9818 - val_loss: 0.5898 - val_accuracy: 0.8470\n",
            "Epoch 19/20\n",
            "410/410 [==============================] - ETA: 0s - loss: 0.0491 - accuracy: 0.9846INFO:tensorflow:Assets written to: /content/models/19/assets\n",
            "410/410 [==============================] - 536s 1s/step - loss: 0.0491 - accuracy: 0.9846 - val_loss: 0.6053 - val_accuracy: 0.8448\n",
            "Epoch 20/20\n",
            "410/410 [==============================] - ETA: 0s - loss: 0.0594 - accuracy: 0.9803INFO:tensorflow:Assets written to: /content/models/20/assets\n",
            "410/410 [==============================] - 537s 1s/step - loss: 0.0594 - accuracy: 0.9803 - val_loss: 0.5674 - val_accuracy: 0.8537\n"
          ],
          "name": "stdout"
        }
      ]
    },
    {
      "cell_type": "code",
      "metadata": {
        "colab": {
          "base_uri": "https://localhost:8080/"
        },
        "id": "H-dYDh0v502K",
        "outputId": "12f8f9ce-3473-4bc1-e49d-809833ee2ee5"
      },
      "source": [
        "# Create generators for train and test sets for gender\n",
        "\n",
        "image_generator = tf.keras.preprocessing.image.ImageDataGenerator(rescale=1./255,\n",
        "                                                                  rotation_range=15,\n",
        "                                                                  width_shift_range=0.1,\n",
        "                                                                  height_shift_range=0.1,\n",
        "                                                                  brightness_range=[0.9,1.1],\n",
        "                                                                  zoom_range=[0.9,1.1],\n",
        "                                                                  horizontal_flip=True,\n",
        "                                                                  vertical_flip=False)\n",
        "train_data_gen = image_generator.flow_from_dataframe(train_df,\n",
        "                                                     directory='/content/aligned/',\n",
        "                                                     x_col='filepath',\n",
        "                                                     y_col='gender',\n",
        "                                                     target_size=(IMG_HEIGHT,IMG_WIDTH),\n",
        "                                                     class_mode='categorical',\n",
        "                                                     batch_size=BATCH_SIZE,\n",
        "                                                     shuffle=True,\n",
        "                                                     seed=SEED)\n",
        "\n",
        "image_generator = tf.keras.preprocessing.image.ImageDataGenerator(rescale=1./255)\n",
        "test_data_gen = image_generator.flow_from_dataframe(test_df,\n",
        "                                                    directory='/content/aligned/',\n",
        "                                                    x_col='filepath',\n",
        "                                                    y_col='gender',\n",
        "                                                    target_size=(IMG_HEIGHT,IMG_WIDTH),\n",
        "                                                    class_mode='categorical',\n",
        "                                                    batch_size=BATCH_SIZE,\n",
        "                                                    shuffle=False,\n",
        "                                                    seed=SEED)"
      ],
      "execution_count": null,
      "outputs": [
        {
          "output_type": "stream",
          "text": [
            "Found 13092 validated image filenames belonging to 2 classes.\n",
            "Found 3274 validated image filenames belonging to 2 classes.\n"
          ],
          "name": "stdout"
        }
      ]
    },
    {
      "cell_type": "code",
      "metadata": {
        "id": "0C70_z8c502K"
      },
      "source": [
        "# Initialise InceptionV3 model, with pretrained ImageNet weights\n",
        "\n",
        "gender_model = tf.keras.applications.InceptionV3(include_top=False,\n",
        "                                               weights='imagenet',\n",
        "                                               input_shape=(IMG_HEIGHT, IMG_WIDTH, 3),\n",
        "                                               pooling='avg')\n",
        "model = tf.keras.models.Sequential(gender_model)\n",
        "model.add(tf.keras.layers.Dense(2))\n",
        "\n",
        "model.compile(optimizer='sgd',\n",
        "              loss=tf.keras.losses.CategoricalCrossentropy(from_logits=True),\n",
        "              metrics=['accuracy'])"
      ],
      "execution_count": null,
      "outputs": []
    },
    {
      "cell_type": "code",
      "metadata": {
        "colab": {
          "base_uri": "https://localhost:8080/"
        },
        "id": "oeXA06RZ502K",
        "outputId": "933c4159-671d-4c35-d642-8eab3b14c8f7"
      },
      "source": [
        "# Fit model to train data\n",
        "\n",
        "history = model.fit(train_data_gen,\n",
        "                    epochs=20,\n",
        "                    initial_epoch=0,\n",
        "                    validation_data=test_data_gen,\n",
        "                    callbacks=[early_stop, checkpoint, log, time_callback],\n",
        "                    verbose=1)"
      ],
      "execution_count": null,
      "outputs": [
        {
          "output_type": "stream",
          "text": [
            "Epoch 1/20\n",
            "410/410 [==============================] - ETA: 0s - loss: 0.3475 - accuracy: 0.8381INFO:tensorflow:Assets written to: /content/models/01/assets\n",
            "410/410 [==============================] - 540s 1s/step - loss: 0.3475 - accuracy: 0.8381 - val_loss: 0.2878 - val_accuracy: 0.8772\n",
            "Epoch 2/20\n",
            "410/410 [==============================] - ETA: 0s - loss: 0.1937 - accuracy: 0.9237INFO:tensorflow:Assets written to: /content/models/02/assets\n",
            "410/410 [==============================] - 550s 1s/step - loss: 0.1937 - accuracy: 0.9237 - val_loss: 0.1707 - val_accuracy: 0.9352\n",
            "Epoch 3/20\n",
            "410/410 [==============================] - ETA: 0s - loss: 0.1315 - accuracy: 0.9491INFO:tensorflow:Assets written to: /content/models/03/assets\n",
            "410/410 [==============================] - 551s 1s/step - loss: 0.1315 - accuracy: 0.9491 - val_loss: 0.1412 - val_accuracy: 0.9429\n",
            "Epoch 4/20\n",
            "410/410 [==============================] - ETA: 0s - loss: 0.1061 - accuracy: 0.9610INFO:tensorflow:Assets written to: /content/models/04/assets\n",
            "410/410 [==============================] - 536s 1s/step - loss: 0.1061 - accuracy: 0.9610 - val_loss: 0.1288 - val_accuracy: 0.9548\n",
            "Epoch 5/20\n",
            "410/410 [==============================] - ETA: 0s - loss: 0.0783 - accuracy: 0.9710INFO:tensorflow:Assets written to: /content/models/05/assets\n",
            "410/410 [==============================] - 515s 1s/step - loss: 0.0783 - accuracy: 0.9710 - val_loss: 0.1571 - val_accuracy: 0.9505\n",
            "Epoch 6/20\n",
            "410/410 [==============================] - ETA: 0s - loss: 0.0632 - accuracy: 0.9778INFO:tensorflow:Assets written to: /content/models/06/assets\n",
            "410/410 [==============================] - 535s 1s/step - loss: 0.0632 - accuracy: 0.9778 - val_loss: 0.1435 - val_accuracy: 0.9551\n",
            "Epoch 7/20\n",
            "410/410 [==============================] - ETA: 0s - loss: 0.0520 - accuracy: 0.9824INFO:tensorflow:Assets written to: /content/models/07/assets\n",
            "410/410 [==============================] - 529s 1s/step - loss: 0.0520 - accuracy: 0.9824 - val_loss: 0.1500 - val_accuracy: 0.9533\n",
            "Epoch 8/20\n",
            "410/410 [==============================] - ETA: 0s - loss: 0.0422 - accuracy: 0.9856INFO:tensorflow:Assets written to: /content/models/08/assets\n",
            "410/410 [==============================] - 516s 1s/step - loss: 0.0422 - accuracy: 0.9856 - val_loss: 0.1383 - val_accuracy: 0.9572\n",
            "Epoch 9/20\n",
            "410/410 [==============================] - ETA: 0s - loss: 0.0381 - accuracy: 0.9874INFO:tensorflow:Assets written to: /content/models/09/assets\n",
            "410/410 [==============================] - 515s 1s/step - loss: 0.0381 - accuracy: 0.9874 - val_loss: 0.1309 - val_accuracy: 0.9594\n",
            "Epoch 10/20\n",
            "410/410 [==============================] - ETA: 0s - loss: 0.0336 - accuracy: 0.9880INFO:tensorflow:Assets written to: /content/models/10/assets\n",
            "410/410 [==============================] - 518s 1s/step - loss: 0.0336 - accuracy: 0.9880 - val_loss: 0.1380 - val_accuracy: 0.9603\n",
            "Epoch 11/20\n",
            "410/410 [==============================] - ETA: 0s - loss: 0.0302 - accuracy: 0.9902INFO:tensorflow:Assets written to: /content/models/11/assets\n",
            "410/410 [==============================] - 517s 1s/step - loss: 0.0302 - accuracy: 0.9902 - val_loss: 0.1280 - val_accuracy: 0.9633\n",
            "Epoch 12/20\n",
            "410/410 [==============================] - ETA: 0s - loss: 0.0219 - accuracy: 0.9929INFO:tensorflow:Assets written to: /content/models/12/assets\n",
            "410/410 [==============================] - 514s 1s/step - loss: 0.0219 - accuracy: 0.9929 - val_loss: 0.1285 - val_accuracy: 0.9627\n",
            "Epoch 13/20\n",
            "410/410 [==============================] - ETA: 0s - loss: 0.0215 - accuracy: 0.9927INFO:tensorflow:Assets written to: /content/models/13/assets\n",
            "410/410 [==============================] - 516s 1s/step - loss: 0.0215 - accuracy: 0.9927 - val_loss: 0.1551 - val_accuracy: 0.9612\n",
            "Epoch 14/20\n",
            "410/410 [==============================] - ETA: 0s - loss: 0.0238 - accuracy: 0.9925INFO:tensorflow:Assets written to: /content/models/14/assets\n",
            "410/410 [==============================] - 515s 1s/step - loss: 0.0238 - accuracy: 0.9925 - val_loss: 0.1636 - val_accuracy: 0.9560\n",
            "Epoch 15/20\n",
            "410/410 [==============================] - ETA: 0s - loss: 0.0310 - accuracy: 0.9895INFO:tensorflow:Assets written to: /content/models/15/assets\n",
            "410/410 [==============================] - 518s 1s/step - loss: 0.0310 - accuracy: 0.9895 - val_loss: 0.1420 - val_accuracy: 0.9618\n",
            "Epoch 16/20\n",
            "410/410 [==============================] - ETA: 0s - loss: 0.0143 - accuracy: 0.9963INFO:tensorflow:Assets written to: /content/models/16/assets\n",
            "410/410 [==============================] - 515s 1s/step - loss: 0.0143 - accuracy: 0.9963 - val_loss: 0.1632 - val_accuracy: 0.9615\n"
          ],
          "name": "stdout"
        }
      ]
    },
    {
      "cell_type": "code",
      "metadata": {
        "id": "B_qZKbAY502K"
      },
      "source": [
        "# Simultaneously find age and gender features, then predict gender from both features\n",
        "age_model._name = 'inception_v3_age'\n",
        "gender_model._name = 'inception_v3_gender'\n",
        "\n",
        "age_model.trainable = False\n",
        "gender_model.trainable = False\n",
        "\n",
        "input = tf.keras.Input(shape=(299, 299, 3))\n",
        "age_model = age_model(input)\n",
        "gender_model = gender_model(input)\n",
        "age_model = tf.keras.Model(inputs=input, outputs=age_model)\n",
        "gender_model = tf.keras.Model(inputs=input, outputs=gender_model)\n",
        "model = tf.keras.layers.concatenate([age_model.output, gender_model.output])\n",
        "model = tf.keras.layers.Dense(2)(model)\n",
        "model = tf.keras.Model(inputs=input, outputs=model)\n",
        "\n",
        "model.compile(optimizer='sgd',\n",
        "              loss=tf.keras.losses.CategoricalCrossentropy(from_logits=True),\n",
        "              metrics=['accuracy'])"
      ],
      "execution_count": null,
      "outputs": []
    },
    {
      "cell_type": "code",
      "metadata": {
        "colab": {
          "base_uri": "https://localhost:8080/"
        },
        "id": "1KT8qWMh502K",
        "outputId": "67472ead-e3f1-48a8-8f8c-bad308de646a"
      },
      "source": [
        "model.summary()"
      ],
      "execution_count": null,
      "outputs": [
        {
          "output_type": "stream",
          "text": [
            "Model: \"functional_5\"\n",
            "__________________________________________________________________________________________________\n",
            "Layer (type)                    Output Shape         Param #     Connected to                     \n",
            "==================================================================================================\n",
            "input_4 (InputLayer)            [(None, 299, 299, 3) 0                                            \n",
            "__________________________________________________________________________________________________\n",
            "inception_v3_age (Functional)   (None, 2048)         21802784    input_4[0][0]                    \n",
            "__________________________________________________________________________________________________\n",
            "inception_v3_gender (Functional (None, 2048)         21802784    input_4[0][0]                    \n",
            "__________________________________________________________________________________________________\n",
            "concatenate_4 (Concatenate)     (None, 4096)         0           inception_v3_age[1][0]           \n",
            "                                                                 inception_v3_gender[1][0]        \n",
            "__________________________________________________________________________________________________\n",
            "dense_3 (Dense)                 (None, 2)            8194        concatenate_4[0][0]              \n",
            "==================================================================================================\n",
            "Total params: 43,613,762\n",
            "Trainable params: 8,194\n",
            "Non-trainable params: 43,605,568\n",
            "__________________________________________________________________________________________________\n"
          ],
          "name": "stdout"
        }
      ]
    },
    {
      "cell_type": "code",
      "metadata": {
        "colab": {
          "base_uri": "https://localhost:8080/"
        },
        "id": "jFAxCn3s502K",
        "outputId": "324f915f-4c95-45b7-ccd2-a6dde5192145"
      },
      "source": [
        "# Fit model to train data\n",
        "\n",
        "history = model.fit(train_data_gen,\n",
        "                    epochs=20,\n",
        "                    initial_epoch=0,\n",
        "                    validation_data=test_data_gen,\n",
        "                    callbacks=[early_stop, checkpoint, log, time_callback],\n",
        "                    verbose=1)"
      ],
      "execution_count": 29,
      "outputs": [
        {
          "output_type": "stream",
          "text": [
            "Epoch 1/20\n",
            "410/410 [==============================] - ETA: 0s - loss: 0.0516 - accuracy: 0.9919INFO:tensorflow:Assets written to: /content/models/01/assets\n",
            "410/410 [==============================] - 517s 1s/step - loss: 0.0516 - accuracy: 0.9919 - val_loss: 0.1083 - val_accuracy: 0.9618\n",
            "Epoch 2/20\n",
            "410/410 [==============================] - ETA: 0s - loss: 0.0194 - accuracy: 0.9971INFO:tensorflow:Assets written to: /content/models/02/assets\n",
            "410/410 [==============================] - 512s 1s/step - loss: 0.0194 - accuracy: 0.9971 - val_loss: 0.1111 - val_accuracy: 0.9615\n",
            "Epoch 3/20\n",
            "410/410 [==============================] - ETA: 0s - loss: 0.0153 - accuracy: 0.9974INFO:tensorflow:Assets written to: /content/models/03/assets\n",
            "410/410 [==============================] - 515s 1s/step - loss: 0.0153 - accuracy: 0.9974 - val_loss: 0.1140 - val_accuracy: 0.9618\n",
            "Epoch 4/20\n",
            "410/410 [==============================] - ETA: 0s - loss: 0.0145 - accuracy: 0.9969INFO:tensorflow:Assets written to: /content/models/04/assets\n",
            "410/410 [==============================] - 520s 1s/step - loss: 0.0145 - accuracy: 0.9969 - val_loss: 0.1167 - val_accuracy: 0.9633\n",
            "Epoch 5/20\n",
            "410/410 [==============================] - ETA: 0s - loss: 0.0117 - accuracy: 0.9972INFO:tensorflow:Assets written to: /content/models/05/assets\n",
            "410/410 [==============================] - 525s 1s/step - loss: 0.0117 - accuracy: 0.9972 - val_loss: 0.1187 - val_accuracy: 0.9633\n",
            "Epoch 6/20\n",
            "410/410 [==============================] - ETA: 0s - loss: 0.0120 - accuracy: 0.9969INFO:tensorflow:Assets written to: /content/models/06/assets\n",
            "410/410 [==============================] - 533s 1s/step - loss: 0.0120 - accuracy: 0.9969 - val_loss: 0.1213 - val_accuracy: 0.9630\n",
            "Epoch 7/20\n",
            "410/410 [==============================] - ETA: 0s - loss: 0.0116 - accuracy: 0.9973INFO:tensorflow:Assets written to: /content/models/07/assets\n",
            "410/410 [==============================] - 521s 1s/step - loss: 0.0116 - accuracy: 0.9973 - val_loss: 0.1229 - val_accuracy: 0.9640\n",
            "Epoch 8/20\n",
            "410/410 [==============================] - ETA: 0s - loss: 0.0109 - accuracy: 0.9974INFO:tensorflow:Assets written to: /content/models/08/assets\n",
            "410/410 [==============================] - 521s 1s/step - loss: 0.0109 - accuracy: 0.9974 - val_loss: 0.1237 - val_accuracy: 0.9630\n",
            "Epoch 9/20\n",
            "410/410 [==============================] - ETA: 0s - loss: 0.0102 - accuracy: 0.9976INFO:tensorflow:Assets written to: /content/models/09/assets\n",
            "410/410 [==============================] - 518s 1s/step - loss: 0.0102 - accuracy: 0.9976 - val_loss: 0.1253 - val_accuracy: 0.9640\n",
            "Epoch 10/20\n",
            "410/410 [==============================] - ETA: 0s - loss: 0.0105 - accuracy: 0.9972INFO:tensorflow:Assets written to: /content/models/10/assets\n",
            "410/410 [==============================] - 518s 1s/step - loss: 0.0105 - accuracy: 0.9972 - val_loss: 0.1267 - val_accuracy: 0.9633\n",
            "Epoch 11/20\n",
            "410/410 [==============================] - ETA: 0s - loss: 0.0107 - accuracy: 0.9972INFO:tensorflow:Assets written to: /content/models/11/assets\n",
            "410/410 [==============================] - 519s 1s/step - loss: 0.0107 - accuracy: 0.9972 - val_loss: 0.1278 - val_accuracy: 0.9643\n",
            "Epoch 12/20\n",
            "410/410 [==============================] - ETA: 0s - loss: 0.0105 - accuracy: 0.9967INFO:tensorflow:Assets written to: /content/models/12/assets\n",
            "410/410 [==============================] - 517s 1s/step - loss: 0.0105 - accuracy: 0.9967 - val_loss: 0.1284 - val_accuracy: 0.9637\n",
            "Epoch 13/20\n",
            "410/410 [==============================] - ETA: 0s - loss: 0.0084 - accuracy: 0.9977INFO:tensorflow:Assets written to: /content/models/13/assets\n",
            "410/410 [==============================] - 520s 1s/step - loss: 0.0084 - accuracy: 0.9977 - val_loss: 0.1298 - val_accuracy: 0.9643\n",
            "Epoch 14/20\n",
            "410/410 [==============================] - ETA: 0s - loss: 0.0102 - accuracy: 0.9972INFO:tensorflow:Assets written to: /content/models/14/assets\n",
            "410/410 [==============================] - 520s 1s/step - loss: 0.0102 - accuracy: 0.9972 - val_loss: 0.1305 - val_accuracy: 0.9643\n",
            "Epoch 15/20\n",
            "410/410 [==============================] - ETA: 0s - loss: 0.0085 - accuracy: 0.9970INFO:tensorflow:Assets written to: /content/models/15/assets\n",
            "410/410 [==============================] - 520s 1s/step - loss: 0.0085 - accuracy: 0.9970 - val_loss: 0.1321 - val_accuracy: 0.9640\n",
            "Epoch 16/20\n",
            "410/410 [==============================] - ETA: 0s - loss: 0.0087 - accuracy: 0.9976INFO:tensorflow:Assets written to: /content/models/16/assets\n",
            "410/410 [==============================] - 518s 1s/step - loss: 0.0087 - accuracy: 0.9976 - val_loss: 0.1328 - val_accuracy: 0.9640\n"
          ],
          "name": "stdout"
        }
      ]
    },
    {
      "cell_type": "code",
      "metadata": {
        "colab": {
          "base_uri": "https://localhost:8080/",
          "height": 279
        },
        "id": "9Dkac6fp502K",
        "outputId": "1905f905-3190-4487-f232-4720383cb07a"
      },
      "source": [
        "# Plot train and test accuracies per epoch\n",
        "\n",
        "plt.plot(history.history['accuracy'], label='accuracy')\n",
        "plt.plot(history.history['val_accuracy'], label='val_accuracy')\n",
        "plt.xlabel('Epoch')\n",
        "plt.ylabel('Accuracy')\n",
        "plt.legend(loc='lower right')\n",
        "plt.show()"
      ],
      "execution_count": 30,
      "outputs": [
        {
          "output_type": "display_data",
          "data": {
            "image/png": "[encoded data removed]",
            "text/plain": [
              "<Figure size 432x288 with 1 Axes>"
            ]
          },
          "metadata": {
            "tags": [],
            "needs_background": "light"
          }
        }
      ]
    },
    {
      "cell_type": "markdown",
      "metadata": {
        "id": "f4gUxBHDPEXB"
      },
      "source": [
        "# 3. Pretraining on CelebA"
      ]
    },
    {
      "cell_type": "code",
      "metadata": {
        "id": "Z2wocS0ztdUK"
      },
      "source": [
        "# Initialise InceptionV3 model, with pretrained ImageNet weights\n",
        "\n",
        "base_model = tf.keras.applications.InceptionV3(include_top=False,\n",
        "                                               weights='imagenet',\n",
        "                                               input_shape=(IMG_HEIGHT, IMG_WIDTH, 3),\n",
        "                                               pooling='avg')\n",
        "model = tf.keras.models.Sequential(base_model)\n",
        "model.add(tf.keras.layers.Dense(2))\n",
        "\n",
        "model.compile(optimizer='sgd',\n",
        "              loss=tf.keras.losses.CategoricalCrossentropy(from_logits=True),\n",
        "              metrics=['accuracy'])"
      ],
      "execution_count": null,
      "outputs": []
    },
    {
      "cell_type": "code",
      "metadata": {
        "colab": {
          "base_uri": "https://localhost:8080/",
          "height": 678
        },
        "id": "xvxT_G8X6EtX",
        "outputId": "5b78acf0-5f30-44bd-fb7c-c556bc978722"
      },
      "source": [
        "# Pretrain model on CelebA dataset\n",
        "\n",
        "history = model.fit(train_data_gen_ca,\n",
        "                    epochs=100,\n",
        "                    initial_epoch=0,\n",
        "                    validation_data=test_data_gen_ca,\n",
        "                    callbacks=[early_stop, checkpoint, log, time_callback],\n",
        "                    verbose=1)"
      ],
      "execution_count": null,
      "outputs": [
        {
          "output_type": "stream",
          "text": [
            "Epoch 8/100\n",
            "5065/5065 [==============================] - ETA: 0s - loss: 0.0204 - accuracy: 0.9929WARNING:tensorflow:From /usr/local/lib/python3.6/dist-packages/tensorflow/python/training/tracking/tracking.py:111: Model.state_updates (from tensorflow.python.keras.engine.training) is deprecated and will be removed in a future version.\n",
            "Instructions for updating:\n",
            "This property should not be used in TensorFlow 2.0, as updates are applied automatically.\n",
            "WARNING:tensorflow:From /usr/local/lib/python3.6/dist-packages/tensorflow/python/training/tracking/tracking.py:111: Layer.updates (from tensorflow.python.keras.engine.base_layer) is deprecated and will be removed in a future version.\n",
            "Instructions for updating:\n",
            "This property should not be used in TensorFlow 2.0, as updates are applied automatically.\n",
            "INFO:tensorflow:Assets written to: /content/models/08/assets\n",
            "5065/5065 [==============================] - 4776s 943ms/step - loss: 0.0204 - accuracy: 0.9929 - val_loss: 0.0154 - val_accuracy: 0.9948\n",
            "Epoch 9/100\n",
            "5065/5065 [==============================] - ETA: 0s - loss: 0.0156 - accuracy: 0.9945INFO:tensorflow:Assets written to: /content/models/09/assets\n",
            "5065/5065 [==============================] - 4540s 896ms/step - loss: 0.0156 - accuracy: 0.9945 - val_loss: 0.0176 - val_accuracy: 0.9939\n",
            "Epoch 10/100\n",
            "5065/5065 [==============================] - ETA: 0s - loss: 0.0129 - accuracy: 0.9952INFO:tensorflow:Assets written to: /content/models/10/assets\n",
            "5065/5065 [==============================] - 4655s 919ms/step - loss: 0.0129 - accuracy: 0.9952 - val_loss: 0.0210 - val_accuracy: 0.9925\n",
            "Epoch 11/100\n",
            "  67/5065 [..............................] - ETA: 1:12:36 - loss: 0.0110 - accuracy: 0.9949"
          ],
          "name": "stdout"
        }
      ]
    },
    {
      "cell_type": "code",
      "metadata": {
        "colab": {
          "base_uri": "https://localhost:8080/"
        },
        "id": "R88C7DrKb98R",
        "outputId": "914bf8ef-7d72-489c-d4a9-d6ef103c233c"
      },
      "source": [
        "test_loss, test_acc = model.evaluate(test_data_gen, verbose=1)\n",
        "\n",
        "print(f\"Test accuracy: {test_acc}\")"
      ],
      "execution_count": null,
      "outputs": [
        {
          "output_type": "stream",
          "text": [
            "103/103 [==============================] - 47s 459ms/step - loss: 0.5311 - accuracy: 0.8207\n",
            "Test accuracy: 0.8207086324691772\n"
          ],
          "name": "stdout"
        }
      ]
    },
    {
      "cell_type": "code",
      "metadata": {
        "colab": {
          "base_uri": "https://localhost:8080/",
          "height": 279
        },
        "id": "AUqsGe6Va-Wa",
        "outputId": "b3af5faf-cc26-479a-8239-80e718826aad"
      },
      "source": [
        "# Plot confusion matrix for model\n",
        "\n",
        "from sklearn.metrics import confusion_matrix\n",
        "import seaborn as sb\n",
        " \n",
        "model.add(tf.keras.layers.Softmax())\n",
        "predict = model.predict(test_data_gen)\n",
        "model.pop()\n",
        " \n",
        "predict = np.argmax(predict, axis=1)\n",
        " \n",
        "cm = confusion_matrix(test_data_gen.classes, predict)\n",
        "sb.heatmap(cm, annot=True, fmt='d', cmap='Blues')\n",
        "plt.ylabel('True label')\n",
        "plt.xlabel('Predicted label')\n",
        "plt.show()"
      ],
      "execution_count": null,
      "outputs": [
        {
          "output_type": "display_data",
          "data": {
            "image/png": "[encoded data removed]",
            "text/plain": [
              "<Figure size 432x288 with 2 Axes>"
            ]
          },
          "metadata": {
            "tags": []
          }
        }
      ]
    },
    {
      "cell_type": "code",
      "metadata": {
        "colab": {
          "base_uri": "https://localhost:8080/"
        },
        "id": "GS7JHGDx5fvc",
        "outputId": "5531f374-991e-41d6-d9b2-b51e82c0b062"
      },
      "source": [
        "# Save model for future experimentation\n",
        "model.save('/content/models/celeba')"
      ],
      "execution_count": null,
      "outputs": [
        {
          "output_type": "stream",
          "text": [
            "INFO:tensorflow:Assets written to: /content/drive/My Drive/CZ4042/models/celeba/assets\n"
          ],
          "name": "stdout"
        }
      ]
    },
    {
      "cell_type": "code",
      "metadata": {
        "colab": {
          "base_uri": "https://localhost:8080/"
        },
        "id": "VZP84rtexB_n",
        "outputId": "73f71869-2bfc-40b2-ca1c-2d1c635b7dd9"
      },
      "source": [
        "# Don't train feature selection weights\n",
        "model.layers[0].trainable = False\n",
        "\n",
        "# Train on Adience dataset\n",
        "history = model.fit(train_data_gen,\n",
        "                    epochs=30,\n",
        "                    initial_epoch=0,\n",
        "                    validation_data=test_data_gen,\n",
        "                    callbacks=[early_stop, checkpoint, log, time_callback],\n",
        "                    verbose=1)"
      ],
      "execution_count": null,
      "outputs": [
        {
          "output_type": "stream",
          "text": [
            "Epoch 1/30\n",
            "410/410 [==============================] - ETA: 0s - loss: 0.2059 - accuracy: 0.9212INFO:tensorflow:Assets written to: /content/models/01/assets\n",
            "410/410 [==============================] - 296s 722ms/step - loss: 0.2059 - accuracy: 0.9212 - val_loss: 0.1152 - val_accuracy: 0.9566\n",
            "Epoch 2/30\n",
            "410/410 [==============================] - ETA: 0s - loss: 0.0681 - accuracy: 0.9760INFO:tensorflow:Assets written to: /content/models/02/assets\n",
            "410/410 [==============================] - 283s 691ms/step - loss: 0.0681 - accuracy: 0.9760 - val_loss: 0.0898 - val_accuracy: 0.9673\n",
            "Epoch 3/30\n",
            "410/410 [==============================] - ETA: 0s - loss: 0.0278 - accuracy: 0.9918INFO:tensorflow:Assets written to: /content/models/03/assets\n",
            "410/410 [==============================] - 287s 699ms/step - loss: 0.0278 - accuracy: 0.9918 - val_loss: 0.1086 - val_accuracy: 0.9661\n",
            "Epoch 4/30\n",
            "410/410 [==============================] - ETA: 0s - loss: 0.0134 - accuracy: 0.9967INFO:tensorflow:Assets written to: /content/models/04/assets\n",
            "410/410 [==============================] - 284s 693ms/step - loss: 0.0134 - accuracy: 0.9967 - val_loss: 0.0949 - val_accuracy: 0.9698\n",
            "Epoch 5/30\n",
            "410/410 [==============================] - ETA: 0s - loss: 0.0065 - accuracy: 0.9982INFO:tensorflow:Assets written to: /content/models/05/assets\n",
            "410/410 [==============================] - 287s 700ms/step - loss: 0.0065 - accuracy: 0.9982 - val_loss: 0.1065 - val_accuracy: 0.9688\n",
            "Epoch 6/30\n",
            "410/410 [==============================] - ETA: 0s - loss: 0.0185 - accuracy: 0.9943INFO:tensorflow:Assets written to: /content/models/06/assets\n",
            "410/410 [==============================] - 286s 698ms/step - loss: 0.0185 - accuracy: 0.9943 - val_loss: 0.1002 - val_accuracy: 0.9692\n",
            "Epoch 7/30\n",
            "410/410 [==============================] - ETA: 0s - loss: 0.0074 - accuracy: 0.9985INFO:tensorflow:Assets written to: /content/models/07/assets\n",
            "410/410 [==============================] - 286s 697ms/step - loss: 0.0074 - accuracy: 0.9985 - val_loss: 0.1048 - val_accuracy: 0.9688\n",
            "Epoch 8/30\n",
            "410/410 [==============================] - ETA: 0s - loss: 0.0027 - accuracy: 0.9997INFO:tensorflow:Assets written to: /content/models/08/assets\n",
            "410/410 [==============================] - 288s 702ms/step - loss: 0.0027 - accuracy: 0.9997 - val_loss: 0.1079 - val_accuracy: 0.9698\n",
            "Epoch 9/30\n",
            "410/410 [==============================] - ETA: 0s - loss: 0.0193 - accuracy: 0.9943INFO:tensorflow:Assets written to: /content/models/09/assets\n",
            "410/410 [==============================] - 285s 694ms/step - loss: 0.0193 - accuracy: 0.9943 - val_loss: 0.1154 - val_accuracy: 0.9624\n"
          ],
          "name": "stdout"
        }
      ]
    },
    {
      "cell_type": "code",
      "metadata": {
        "colab": {
          "base_uri": "https://localhost:8080/",
          "height": 279
        },
        "id": "5EP_fh5IxiiF",
        "outputId": "980167fb-2099-4701-9c09-35efaa7a5cf3"
      },
      "source": [
        "# Plot train and test accuracies per epoch\n",
        "\n",
        "plt.plot(history.history['accuracy'], label='accuracy')\n",
        "plt.plot(history.history['val_accuracy'], label='val_accuracy')\n",
        "plt.xlabel('Epoch')\n",
        "plt.ylabel('Accuracy')\n",
        "plt.legend(loc='lower right')\n",
        "plt.show()"
      ],
      "execution_count": null,
      "outputs": [
        {
          "output_type": "display_data",
          "data": {
            "image/png": "[encoded data removed]",
            "text/plain": [
              "<Figure size 432x288 with 1 Axes>"
            ]
          },
          "metadata": {
            "tags": []
          }
        }
      ]
    },
    {
      "cell_type": "code",
      "metadata": {
        "colab": {
          "base_uri": "https://localhost:8080/",
          "height": 279
        },
        "id": "JUeGcX24xiiF",
        "outputId": "c301dbcd-68cb-423a-9e06-4e2289d206cb"
      },
      "source": [
        "# Plot confusion matrix for model\n",
        "\n",
        "from sklearn.metrics import confusion_matrix\n",
        "import seaborn as sb\n",
        " \n",
        "model.add(tf.keras.layers.Softmax())\n",
        "predict = model.predict(test_data_gen)\n",
        "model.pop()\n",
        " \n",
        "predict = np.argmax(predict, axis=1)\n",
        " \n",
        "cm = confusion_matrix(test_data_gen.classes, predict)\n",
        "sb.heatmap(cm, annot=True, fmt='d', cmap='Blues')\n",
        "plt.ylabel('True label')\n",
        "plt.xlabel('Predicted label')\n",
        "plt.show()"
      ],
      "execution_count": null,
      "outputs": [
        {
          "output_type": "display_data",
          "data": {
            "image/png": "[encoded data removed]",
            "text/plain": [
              "<Figure size 432x288 with 2 Axes>"
            ]
          },
          "metadata": {
            "tags": []
          }
        }
      ]
    },
    {
      "cell_type": "code",
      "metadata": {
        "colab": {
          "base_uri": "https://localhost:8080/",
          "height": 79
        },
        "id": "xewvNT9vxiiG",
        "outputId": "6d81af8f-1a8c-4f62-c8a5-0ae188fa6b41"
      },
      "source": [
        "# Time taken to train model\n",
        "\n",
        "pd.DataFrame([[sum(time_callback.times[1:])/len(time_callback.times[1:]),sum(time_callback.times)]],\n",
        "             ['Deep'],\n",
        "             ['Avg per Epoch', 'Total training time'])"
      ],
      "execution_count": null,
      "outputs": [
        {
          "output_type": "execute_result",
          "data": {
            "text/html": [
              "<div>\n",
              "<style scoped>\n",
              "    .dataframe tbody tr th:only-of-type {\n",
              "        vertical-align: middle;\n",
              "    }\n",
              "\n",
              "    .dataframe tbody tr th {\n",
              "        vertical-align: top;\n",
              "    }\n",
              "\n",
              "    .dataframe thead th {\n",
              "        text-align: right;\n",
              "    }\n",
              "</style>\n",
              "<table border=\"1\" class=\"dataframe\">\n",
              "  <thead>\n",
              "    <tr style=\"text-align: right;\">\n",
              "      <th></th>\n",
              "      <th>Avg per Epoch</th>\n",
              "      <th>Total training time</th>\n",
              "    </tr>\n",
              "  </thead>\n",
              "  <tbody>\n",
              "    <tr>\n",
              "      <th>Deep</th>\n",
              "      <td>286.517004</td>\n",
              "      <td>2593.732514</td>\n",
              "    </tr>\n",
              "  </tbody>\n",
              "</table>\n",
              "</div>"
            ],
            "text/plain": [
              "      Avg per Epoch  Total training time\n",
              "Deep     286.517004          2593.732514"
            ]
          },
          "metadata": {
            "tags": []
          },
          "execution_count": 31
        }
      ]
    },
    {
      "cell_type": "code",
      "metadata": {
        "id": "VIpqMM7v5fva"
      },
      "source": [
        "# Load model pretrained on celeba\n",
        "model = tf.keras.models.load_model('/content/models/celeba')"
      ],
      "execution_count": null,
      "outputs": []
    },
    {
      "cell_type": "code",
      "metadata": {
        "colab": {
          "background_save": true,
          "base_uri": "https://localhost:8080/"
        },
        "id": "Bte2xHs75rwK",
        "outputId": "55f1cda8-0f74-4816-a505-9f80c1d1c025"
      },
      "source": [
        "# Don't train feature selection weights\n",
        "model.layers[0].trainable = False\n",
        "\n",
        "# Train model, allowing feature selection weights to be trainable\n",
        "history = model.fit(train_data_gen,\n",
        "                    epochs=30,\n",
        "                    initial_epoch=0,\n",
        "                    validation_data=test_data_gen,\n",
        "                    callbacks=[early_stop, checkpoint, log, time_callback],\n",
        "                    verbose=1)"
      ],
      "execution_count": null,
      "outputs": [
        {
          "output_type": "stream",
          "text": [
            "Epoch 1/30\n",
            "410/410 [==============================] - ETA: 0s - loss: 0.1986 - accuracy: 0.9258INFO:tensorflow:Assets written to: /content/models/01/assets\n",
            "410/410 [==============================] - 284s 692ms/step - loss: 0.1986 - accuracy: 0.9258 - val_loss: 0.1091 - val_accuracy: 0.9618\n",
            "Epoch 2/30\n",
            "410/410 [==============================] - ETA: 0s - loss: 0.0603 - accuracy: 0.9806INFO:tensorflow:Assets written to: /content/models/02/assets\n",
            "410/410 [==============================] - 285s 695ms/step - loss: 0.0603 - accuracy: 0.9806 - val_loss: 0.0971 - val_accuracy: 0.9646\n",
            "Epoch 3/30\n",
            "410/410 [==============================] - ETA: 0s - loss: 0.0374 - accuracy: 0.9892INFO:tensorflow:Assets written to: /content/models/03/assets\n",
            "410/410 [==============================] - 288s 702ms/step - loss: 0.0374 - accuracy: 0.9892 - val_loss: 0.0950 - val_accuracy: 0.9676\n",
            "Epoch 4/30\n",
            "410/410 [==============================] - ETA: 0s - loss: 0.0138 - accuracy: 0.9958INFO:tensorflow:Assets written to: /content/models/04/assets\n",
            "410/410 [==============================] - 287s 700ms/step - loss: 0.0138 - accuracy: 0.9958 - val_loss: 0.1006 - val_accuracy: 0.9704\n",
            "Epoch 5/30\n",
            "410/410 [==============================] - ETA: 0s - loss: 0.0145 - accuracy: 0.9956INFO:tensorflow:Assets written to: /content/models/05/assets\n",
            "410/410 [==============================] - 289s 704ms/step - loss: 0.0145 - accuracy: 0.9956 - val_loss: 0.3829 - val_accuracy: 0.8995\n",
            "Epoch 6/30\n",
            "410/410 [==============================] - ETA: 0s - loss: 0.0364 - accuracy: 0.9873INFO:tensorflow:Assets written to: /content/models/06/assets\n",
            "410/410 [==============================] - 292s 712ms/step - loss: 0.0364 - accuracy: 0.9873 - val_loss: 0.1041 - val_accuracy: 0.9658\n",
            "Epoch 7/30\n",
            "410/410 [==============================] - ETA: 0s - loss: 0.0210 - accuracy: 0.9937INFO:tensorflow:Assets written to: /content/models/07/assets\n",
            "410/410 [==============================] - 295s 718ms/step - loss: 0.0210 - accuracy: 0.9937 - val_loss: 0.0991 - val_accuracy: 0.9673\n",
            "Epoch 8/30\n",
            "410/410 [==============================] - ETA: 0s - loss: 0.0158 - accuracy: 0.9951INFO:tensorflow:Assets written to: /content/models/08/assets\n",
            "410/410 [==============================] - 289s 705ms/step - loss: 0.0158 - accuracy: 0.9951 - val_loss: 0.0946 - val_accuracy: 0.9704\n",
            "Epoch 9/30\n",
            "410/410 [==============================] - ETA: 0s - loss: 0.0057 - accuracy: 0.9989INFO:tensorflow:Assets written to: /content/models/09/assets\n",
            "410/410 [==============================] - 294s 717ms/step - loss: 0.0057 - accuracy: 0.9989 - val_loss: 0.0937 - val_accuracy: 0.9731\n",
            "Epoch 10/30\n",
            "410/410 [==============================] - ETA: 0s - loss: 0.0105 - accuracy: 0.9973INFO:tensorflow:Assets written to: /content/models/10/assets\n",
            "410/410 [==============================] - 293s 715ms/step - loss: 0.0105 - accuracy: 0.9973 - val_loss: 0.0983 - val_accuracy: 0.9713\n",
            "Epoch 11/30\n",
            "410/410 [==============================] - ETA: 0s - loss: 0.0034 - accuracy: 0.9997INFO:tensorflow:Assets written to: /content/models/11/assets\n",
            "410/410 [==============================] - 293s 715ms/step - loss: 0.0034 - accuracy: 0.9997 - val_loss: 0.1054 - val_accuracy: 0.9713\n",
            "Epoch 12/30\n",
            "410/410 [==============================] - ETA: 0s - loss: 0.0014 - accuracy: 0.9999INFO:tensorflow:Assets written to: /content/models/12/assets\n",
            "410/410 [==============================] - 291s 709ms/step - loss: 0.0014 - accuracy: 0.9999 - val_loss: 0.1024 - val_accuracy: 0.9750\n",
            "Epoch 13/30\n",
            "410/410 [==============================] - ETA: 0s - loss: 9.2461e-04 - accuracy: 0.9999INFO:tensorflow:Assets written to: /content/models/13/assets\n",
            "410/410 [==============================] - 289s 704ms/step - loss: 9.2461e-04 - accuracy: 0.9999 - val_loss: 0.1086 - val_accuracy: 0.9728\n",
            "Epoch 14/30\n",
            "410/410 [==============================] - ETA: 0s - loss: 0.0014 - accuracy: 0.9997INFO:tensorflow:Assets written to: /content/models/14/assets\n",
            "410/410 [==============================] - 294s 716ms/step - loss: 0.0014 - accuracy: 0.9997 - val_loss: 0.1086 - val_accuracy: 0.9716\n",
            "Epoch 15/30\n",
            "410/410 [==============================] - ETA: 0s - loss: 7.5863e-04 - accuracy: 0.9999INFO:tensorflow:Assets written to: /content/models/15/assets\n",
            "410/410 [==============================] - 292s 711ms/step - loss: 7.5863e-04 - accuracy: 0.9999 - val_loss: 0.1073 - val_accuracy: 0.9728\n",
            "Epoch 16/30\n",
            "410/410 [==============================] - ETA: 0s - loss: 0.0115 - accuracy: 0.9966INFO:tensorflow:Assets written to: /content/models/16/assets\n",
            "410/410 [==============================] - 290s 707ms/step - loss: 0.0115 - accuracy: 0.9966 - val_loss: 0.1291 - val_accuracy: 0.9655\n",
            "Epoch 17/30\n",
            "410/410 [==============================] - ETA: 0s - loss: 0.0112 - accuracy: 0.9974INFO:tensorflow:Assets written to: /content/models/17/assets\n",
            "410/410 [==============================] - 291s 709ms/step - loss: 0.0112 - accuracy: 0.9974 - val_loss: 0.1128 - val_accuracy: 0.9673\n"
          ],
          "name": "stdout"
        }
      ]
    },
    {
      "cell_type": "code",
      "metadata": {
        "colab": {
          "base_uri": "https://localhost:8080/",
          "height": 280
        },
        "id": "N6QSezRN5rwL",
        "outputId": "6d97d3b5-f9ed-4182-c12f-62f13c71b0cf"
      },
      "source": [
        "# Plot train and test accuracies per epoch\n",
        "\n",
        "plt.plot(history.history['accuracy'], label='accuracy')\n",
        "plt.plot(history.history['val_accuracy'], label='val_accuracy')\n",
        "plt.xlabel('Epoch')\n",
        "plt.ylabel('Accuracy')\n",
        "plt.legend(loc='lower right')\n",
        "plt.show()"
      ],
      "execution_count": null,
      "outputs": [
        {
          "output_type": "display_data",
          "data": {
            "image/png": "[encoded data removed]",
            "text/plain": [
              "<Figure size 432x288 with 1 Axes>"
            ]
          },
          "metadata": {
            "tags": []
          }
        }
      ]
    },
    {
      "cell_type": "code",
      "metadata": {
        "colab": {
          "base_uri": "https://localhost:8080/",
          "height": 279
        },
        "id": "muaSAfB35rwL",
        "outputId": "026c670a-60e2-4a2d-bf55-a1158d78f6de"
      },
      "source": [
        "# Plot confusion matrix for model\n",
        "\n",
        "from sklearn.metrics import confusion_matrix\n",
        "import seaborn as sb\n",
        " \n",
        "model.add(tf.keras.layers.Softmax())\n",
        "predict = model.predict(test_data_gen)\n",
        "model.pop()\n",
        " \n",
        "predict = np.argmax(predict, axis=1)\n",
        " \n",
        "cm = confusion_matrix(test_data_gen.classes, predict)\n",
        "sb.heatmap(cm, annot=True, fmt='d', cmap='Blues')\n",
        "plt.ylabel('True label')\n",
        "plt.xlabel('Predicted label')\n",
        "plt.show()"
      ],
      "execution_count": null,
      "outputs": [
        {
          "output_type": "display_data",
          "data": {
            "image/png": "[encoded data removed]",
            "text/plain": [
              "<Figure size 432x288 with 2 Axes>"
            ]
          },
          "metadata": {
            "tags": []
          }
        }
      ]
    },
    {
      "cell_type": "code",
      "metadata": {
        "colab": {
          "base_uri": "https://localhost:8080/",
          "height": 79
        },
        "id": "cJncsUpN5rwL",
        "outputId": "28802d1e-d0f2-449c-bf86-d8b14144ea6b"
      },
      "source": [
        "# Time taken to train model\n",
        "\n",
        "pd.DataFrame([[sum(time_callback.times[1:])/len(time_callback.times[1:]),sum(time_callback.times)]],\n",
        "             ['Deep'],\n",
        "             ['Avg per Epoch', 'Total training time'])"
      ],
      "execution_count": null,
      "outputs": [
        {
          "output_type": "execute_result",
          "data": {
            "text/html": [
              "<div>\n",
              "<style scoped>\n",
              "    .dataframe tbody tr th:only-of-type {\n",
              "        vertical-align: middle;\n",
              "    }\n",
              "\n",
              "    .dataframe tbody tr th {\n",
              "        vertical-align: top;\n",
              "    }\n",
              "\n",
              "    .dataframe thead th {\n",
              "        text-align: right;\n",
              "    }\n",
              "</style>\n",
              "<table border=\"1\" class=\"dataframe\">\n",
              "  <thead>\n",
              "    <tr style=\"text-align: right;\">\n",
              "      <th></th>\n",
              "      <th>Avg per Epoch</th>\n",
              "      <th>Total training time</th>\n",
              "    </tr>\n",
              "  </thead>\n",
              "  <tbody>\n",
              "    <tr>\n",
              "      <th>Deep</th>\n",
              "      <td>245.265501</td>\n",
              "      <td>1982.109493</td>\n",
              "    </tr>\n",
              "  </tbody>\n",
              "</table>\n",
              "</div>"
            ],
            "text/plain": [
              "      Avg per Epoch  Total training time\n",
              "Deep     245.265501          1982.109493"
            ]
          },
          "metadata": {
            "tags": []
          },
          "execution_count": 18
        }
      ]
    }
  ]
}